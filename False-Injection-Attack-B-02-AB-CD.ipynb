{
 "cells": [
  {
   "cell_type": "code",
   "execution_count": 1,
   "metadata": {},
   "outputs": [],
   "source": [
    "import smote_variants as sv"
   ]
  },
  {
   "cell_type": "code",
   "execution_count": 2,
   "metadata": {},
   "outputs": [],
   "source": [
    "import pandas  as pd"
   ]
  },
  {
   "cell_type": "code",
   "execution_count": 3,
   "metadata": {},
   "outputs": [],
   "source": [
    "import matplotlib.pyplot as plt"
   ]
  },
  {
   "cell_type": "code",
   "execution_count": 4,
   "metadata": {},
   "outputs": [],
   "source": [
    "import numpy as np"
   ]
  },
  {
   "cell_type": "code",
   "execution_count": 5,
   "metadata": {},
   "outputs": [],
   "source": [
    "import imbalanced_databases as imbd"
   ]
  },
  {
   "cell_type": "code",
   "execution_count": 6,
   "metadata": {},
   "outputs": [],
   "source": [
    "from sklearn import metrics"
   ]
  },
  {
   "cell_type": "code",
   "execution_count": 7,
   "metadata": {},
   "outputs": [],
   "source": [
    "from sklearn.metrics import roc_curve, auc, roc_auc_score"
   ]
  },
  {
   "cell_type": "code",
   "execution_count": 8,
   "metadata": {},
   "outputs": [],
   "source": [
    "from sklearn.metrics import confusion_matrix"
   ]
  },
  {
   "cell_type": "code",
   "execution_count": 9,
   "metadata": {},
   "outputs": [],
   "source": [
    "from sklearn import metrics"
   ]
  },
  {
   "cell_type": "code",
   "execution_count": 10,
   "metadata": {},
   "outputs": [],
   "source": [
    "from sklearn.metrics import plot_roc_curve"
   ]
  },
  {
   "cell_type": "code",
   "execution_count": 11,
   "metadata": {},
   "outputs": [],
   "source": [
    "from imblearn.over_sampling import SMOTE"
   ]
  },
  {
   "cell_type": "code",
   "execution_count": 12,
   "metadata": {},
   "outputs": [],
   "source": [
    "%matplotlib inline\n",
    "from sklearn.model_selection import train_test_split"
   ]
  },
  {
   "cell_type": "code",
   "execution_count": 13,
   "metadata": {},
   "outputs": [],
   "source": [
    "from sklearn.preprocessing import StandardScaler"
   ]
  },
  {
   "cell_type": "code",
   "execution_count": 14,
   "metadata": {},
   "outputs": [],
   "source": [
    "from sklearn.linear_model import LogisticRegression "
   ]
  },
  {
   "cell_type": "code",
   "execution_count": 15,
   "metadata": {},
   "outputs": [],
   "source": [
    "from sklearn.tree import DecisionTreeClassifier"
   ]
  },
  {
   "cell_type": "code",
   "execution_count": 16,
   "metadata": {},
   "outputs": [],
   "source": [
    "from sklearn.naive_bayes import GaussianNB"
   ]
  },
  {
   "cell_type": "code",
   "execution_count": 17,
   "metadata": {},
   "outputs": [],
   "source": [
    "from sklearn.svm import SVC"
   ]
  },
  {
   "cell_type": "code",
   "execution_count": 18,
   "metadata": {},
   "outputs": [],
   "source": [
    "from sklearn.neighbors import KNeighborsClassifier"
   ]
  },
  {
   "cell_type": "code",
   "execution_count": 19,
   "metadata": {},
   "outputs": [],
   "source": [
    "from sklearn.ensemble import RandomForestClassifier"
   ]
  },
  {
   "cell_type": "code",
   "execution_count": 20,
   "metadata": {},
   "outputs": [],
   "source": [
    "import tensorflow.keras"
   ]
  },
  {
   "cell_type": "code",
   "execution_count": 21,
   "metadata": {},
   "outputs": [],
   "source": [
    "from tensorflow.keras.models import Sequential"
   ]
  },
  {
   "cell_type": "code",
   "execution_count": 22,
   "metadata": {},
   "outputs": [],
   "source": [
    "from tensorflow.keras.layers import Conv2D, Conv1D, MaxPooling2D, MaxPooling1D, Flatten, BatchNormalization, Dense, Input, Dropout, LSTM"
   ]
  },
  {
   "cell_type": "code",
   "execution_count": 23,
   "metadata": {},
   "outputs": [],
   "source": [
    "from tensorflow.keras.optimizers import Adam"
   ]
  },
  {
   "cell_type": "code",
   "execution_count": 24,
   "metadata": {},
   "outputs": [],
   "source": [
    "from tensorflow.keras.utils import to_categorical"
   ]
  },
  {
   "cell_type": "code",
   "execution_count": 25,
   "metadata": {},
   "outputs": [],
   "source": [
    "from sklearn.preprocessing import LabelEncoder"
   ]
  },
  {
   "cell_type": "code",
   "execution_count": 26,
   "metadata": {},
   "outputs": [],
   "source": [
    "from sklearn.preprocessing import Normalizer"
   ]
  },
  {
   "cell_type": "code",
   "execution_count": 27,
   "metadata": {},
   "outputs": [],
   "source": [
    "from sklearn.utils import resample"
   ]
  },
  {
   "cell_type": "code",
   "execution_count": 28,
   "metadata": {},
   "outputs": [],
   "source": [
    "from sklearn.feature_selection import SelectKBest"
   ]
  },
  {
   "cell_type": "code",
   "execution_count": 29,
   "metadata": {},
   "outputs": [],
   "source": [
    "from sklearn.feature_selection import f_classif"
   ]
  },
  {
   "cell_type": "code",
   "execution_count": 30,
   "metadata": {},
   "outputs": [],
   "source": [
    "fdata = pd.read_csv(\"False_Injection_Attack_features.csv\", encoding = \"ISO-8859-1\", header=None)"
   ]
  },
  {
   "cell_type": "code",
   "execution_count": 31,
   "metadata": {},
   "outputs": [],
   "source": [
    "data_info = fdata.values"
   ]
  },
  {
   "cell_type": "code",
   "execution_count": 32,
   "metadata": {},
   "outputs": [],
   "source": [
    "features = data_info[1:-2,:]"
   ]
  },
  {
   "cell_type": "code",
   "execution_count": 33,
   "metadata": {},
   "outputs": [],
   "source": [
    "feature_names = features[:, 1]  "
   ]
  },
  {
   "cell_type": "code",
   "execution_count": 34,
   "metadata": {},
   "outputs": [],
   "source": [
    "feature_types = np.array([item.lower() for item in features[:, 2]])"
   ]
  },
  {
   "cell_type": "code",
   "execution_count": 35,
   "metadata": {},
   "outputs": [
    {
     "name": "stderr",
     "output_type": "stream",
     "text": [
      "s:\\anacondaprogramdata\\anaconda3\\lib\\site-packages\\IPython\\core\\interactiveshell.py:3106: DtypeWarning: Columns (1,3,47) have mixed types.Specify dtype option on import or set low_memory=False.\n",
      "  has_raised = await self.run_ast_nodes(code_ast.body, cell_name,\n"
     ]
    }
   ],
   "source": [
    "dataframe1 = pd.read_csv(\"False_Injection_Attack_Dataset_1.csv\", encoding = \"ISO-8859-1\", header=None, names=[*feature_names, 'fdia_category','Label'])\n",
    "dataframe2 = pd.read_csv(\"False_Injection_Attack_Dataset_2.csv\", encoding = \"ISO-8859-1\", header=None, names=[*feature_names, 'fdia_category','Label'])"
   ]
  },
  {
   "cell_type": "code",
   "execution_count": 36,
   "metadata": {},
   "outputs": [],
   "source": [
    "df = pd.concat([dataframe1,  dataframe2])"
   ]
  },
  {
   "cell_type": "code",
   "execution_count": 37,
   "metadata": {},
   "outputs": [],
   "source": [
    "del dataframe1\n",
    "del dataframe2"
   ]
  },
  {
   "cell_type": "code",
   "execution_count": 38,
   "metadata": {},
   "outputs": [
    {
     "data": {
      "text/html": [
       "<div>\n",
       "<style scoped>\n",
       "    .dataframe tbody tr th:only-of-type {\n",
       "        vertical-align: middle;\n",
       "    }\n",
       "\n",
       "    .dataframe tbody tr th {\n",
       "        vertical-align: top;\n",
       "    }\n",
       "\n",
       "    .dataframe thead th {\n",
       "        text-align: right;\n",
       "    }\n",
       "</style>\n",
       "<table border=\"1\" class=\"dataframe\">\n",
       "  <thead>\n",
       "    <tr style=\"text-align: right;\">\n",
       "      <th></th>\n",
       "      <th>srcip</th>\n",
       "      <th>sport</th>\n",
       "      <th>dstip</th>\n",
       "      <th>dsport</th>\n",
       "      <th>proto</th>\n",
       "      <th>state</th>\n",
       "      <th>dur</th>\n",
       "      <th>sbytes</th>\n",
       "      <th>dbytes</th>\n",
       "      <th>sttl</th>\n",
       "      <th>...</th>\n",
       "      <th>ct_ftp_cmd</th>\n",
       "      <th>ct_srv_src</th>\n",
       "      <th>ct_srv_dst</th>\n",
       "      <th>ct_dst_ltm</th>\n",
       "      <th>ct_src_ ltm</th>\n",
       "      <th>ct_src_dport_ltm</th>\n",
       "      <th>ct_dst_sport_ltm</th>\n",
       "      <th>ct_dst_src_ltm</th>\n",
       "      <th>fdia_category</th>\n",
       "      <th>Label</th>\n",
       "    </tr>\n",
       "  </thead>\n",
       "  <tbody>\n",
       "    <tr>\n",
       "      <th>0</th>\n",
       "      <td>ï»¿59.166.0.0</td>\n",
       "      <td>1390</td>\n",
       "      <td>149.171.126.6</td>\n",
       "      <td>53</td>\n",
       "      <td>udp</td>\n",
       "      <td>CON</td>\n",
       "      <td>0.001055</td>\n",
       "      <td>132</td>\n",
       "      <td>164</td>\n",
       "      <td>31</td>\n",
       "      <td>...</td>\n",
       "      <td>0</td>\n",
       "      <td>3</td>\n",
       "      <td>7</td>\n",
       "      <td>1</td>\n",
       "      <td>3</td>\n",
       "      <td>1</td>\n",
       "      <td>1</td>\n",
       "      <td>1</td>\n",
       "      <td>NaN</td>\n",
       "      <td>0</td>\n",
       "    </tr>\n",
       "    <tr>\n",
       "      <th>1</th>\n",
       "      <td>59.166.0.0</td>\n",
       "      <td>33661</td>\n",
       "      <td>149.171.126.9</td>\n",
       "      <td>1024</td>\n",
       "      <td>udp</td>\n",
       "      <td>CON</td>\n",
       "      <td>0.036133</td>\n",
       "      <td>528</td>\n",
       "      <td>304</td>\n",
       "      <td>31</td>\n",
       "      <td>...</td>\n",
       "      <td>0</td>\n",
       "      <td>2</td>\n",
       "      <td>4</td>\n",
       "      <td>2</td>\n",
       "      <td>3</td>\n",
       "      <td>1</td>\n",
       "      <td>1</td>\n",
       "      <td>2</td>\n",
       "      <td>NaN</td>\n",
       "      <td>0</td>\n",
       "    </tr>\n",
       "    <tr>\n",
       "      <th>2</th>\n",
       "      <td>59.166.0.6</td>\n",
       "      <td>1464</td>\n",
       "      <td>149.171.126.7</td>\n",
       "      <td>53</td>\n",
       "      <td>udp</td>\n",
       "      <td>CON</td>\n",
       "      <td>0.001119</td>\n",
       "      <td>146</td>\n",
       "      <td>178</td>\n",
       "      <td>31</td>\n",
       "      <td>...</td>\n",
       "      <td>0</td>\n",
       "      <td>12</td>\n",
       "      <td>8</td>\n",
       "      <td>1</td>\n",
       "      <td>2</td>\n",
       "      <td>2</td>\n",
       "      <td>1</td>\n",
       "      <td>1</td>\n",
       "      <td>NaN</td>\n",
       "      <td>0</td>\n",
       "    </tr>\n",
       "    <tr>\n",
       "      <th>3</th>\n",
       "      <td>59.166.0.5</td>\n",
       "      <td>3593</td>\n",
       "      <td>149.171.126.5</td>\n",
       "      <td>53</td>\n",
       "      <td>udp</td>\n",
       "      <td>CON</td>\n",
       "      <td>0.001209</td>\n",
       "      <td>132</td>\n",
       "      <td>164</td>\n",
       "      <td>31</td>\n",
       "      <td>...</td>\n",
       "      <td>0</td>\n",
       "      <td>6</td>\n",
       "      <td>9</td>\n",
       "      <td>1</td>\n",
       "      <td>1</td>\n",
       "      <td>1</td>\n",
       "      <td>1</td>\n",
       "      <td>1</td>\n",
       "      <td>NaN</td>\n",
       "      <td>0</td>\n",
       "    </tr>\n",
       "    <tr>\n",
       "      <th>4</th>\n",
       "      <td>59.166.0.3</td>\n",
       "      <td>49664</td>\n",
       "      <td>149.171.126.0</td>\n",
       "      <td>53</td>\n",
       "      <td>udp</td>\n",
       "      <td>CON</td>\n",
       "      <td>0.001169</td>\n",
       "      <td>146</td>\n",
       "      <td>178</td>\n",
       "      <td>31</td>\n",
       "      <td>...</td>\n",
       "      <td>0</td>\n",
       "      <td>7</td>\n",
       "      <td>9</td>\n",
       "      <td>1</td>\n",
       "      <td>1</td>\n",
       "      <td>1</td>\n",
       "      <td>1</td>\n",
       "      <td>1</td>\n",
       "      <td>NaN</td>\n",
       "      <td>0</td>\n",
       "    </tr>\n",
       "  </tbody>\n",
       "</table>\n",
       "<p>5 rows × 49 columns</p>\n",
       "</div>"
      ],
      "text/plain": [
       "           srcip  sport          dstip dsport proto state       dur  sbytes  \\\n",
       "0  ï»¿59.166.0.0   1390  149.171.126.6     53   udp   CON  0.001055     132   \n",
       "1     59.166.0.0  33661  149.171.126.9   1024   udp   CON  0.036133     528   \n",
       "2     59.166.0.6   1464  149.171.126.7     53   udp   CON  0.001119     146   \n",
       "3     59.166.0.5   3593  149.171.126.5     53   udp   CON  0.001209     132   \n",
       "4     59.166.0.3  49664  149.171.126.0     53   udp   CON  0.001169     146   \n",
       "\n",
       "   dbytes  sttl  ...  ct_ftp_cmd  ct_srv_src  ct_srv_dst ct_dst_ltm  \\\n",
       "0     164    31  ...           0           3           7          1   \n",
       "1     304    31  ...           0           2           4          2   \n",
       "2     178    31  ...           0          12           8          1   \n",
       "3     164    31  ...           0           6           9          1   \n",
       "4     178    31  ...           0           7           9          1   \n",
       "\n",
       "   ct_src_ ltm  ct_src_dport_ltm  ct_dst_sport_ltm  ct_dst_src_ltm  \\\n",
       "0            3                 1                 1               1   \n",
       "1            3                 1                 1               2   \n",
       "2            2                 2                 1               1   \n",
       "3            1                 1                 1               1   \n",
       "4            1                 1                 1               1   \n",
       "\n",
       "   fdia_category  Label  \n",
       "0            NaN      0  \n",
       "1            NaN      0  \n",
       "2            NaN      0  \n",
       "3            NaN      0  \n",
       "4            NaN      0  \n",
       "\n",
       "[5 rows x 49 columns]"
      ]
     },
     "execution_count": 38,
     "metadata": {},
     "output_type": "execute_result"
    }
   ],
   "source": [
    "df.head()"
   ]
  },
  {
   "cell_type": "code",
   "execution_count": 39,
   "metadata": {},
   "outputs": [
    {
     "name": "stdout",
     "output_type": "stream",
     "text": [
      "<class 'pandas.core.frame.DataFrame'>\n",
      "Int64Index: 1140045 entries, 0 to 440043\n",
      "Data columns (total 49 columns):\n",
      " #   Column            Non-Null Count    Dtype  \n",
      "---  ------            --------------    -----  \n",
      " 0   srcip             1140045 non-null  object \n",
      " 1   sport             1140045 non-null  object \n",
      " 2   dstip             1140045 non-null  object \n",
      " 3   dsport            1140045 non-null  object \n",
      " 4   proto             1140045 non-null  object \n",
      " 5   state             1140045 non-null  object \n",
      " 6   dur               1140045 non-null  float64\n",
      " 7   sbytes            1140045 non-null  int64  \n",
      " 8   dbytes            1140045 non-null  int64  \n",
      " 9   sttl              1140045 non-null  int64  \n",
      " 10  dttl              1140045 non-null  int64  \n",
      " 11  sloss             1140045 non-null  int64  \n",
      " 12  dloss             1140045 non-null  int64  \n",
      " 13  service           1140045 non-null  object \n",
      " 14  Sload             1140045 non-null  float64\n",
      " 15  Dload             1140045 non-null  float64\n",
      " 16  Spkts             1140045 non-null  int64  \n",
      " 17  Dpkts             1140045 non-null  int64  \n",
      " 18  swin              1140045 non-null  int64  \n",
      " 19  dwin              1140045 non-null  int64  \n",
      " 20  stcpb             1140045 non-null  int64  \n",
      " 21  dtcpb             1140045 non-null  int64  \n",
      " 22  smeansz           1140045 non-null  int64  \n",
      " 23  dmeansz           1140045 non-null  int64  \n",
      " 24  trans_depth       1140045 non-null  int64  \n",
      " 25  res_bdy_len       1140045 non-null  int64  \n",
      " 26  Sjit              1140045 non-null  float64\n",
      " 27  Djit              1140045 non-null  float64\n",
      " 28  Stime             1140045 non-null  int64  \n",
      " 29  Ltime             1140045 non-null  int64  \n",
      " 30  Sintpkt           1140045 non-null  float64\n",
      " 31  Dintpkt           1140045 non-null  float64\n",
      " 32  tcprtt            1140045 non-null  float64\n",
      " 33  synack            1140045 non-null  float64\n",
      " 34  ackdat            1140045 non-null  float64\n",
      " 35  is_sm_ips_ports   1140045 non-null  int64  \n",
      " 36  ct_state_ttl      1140045 non-null  int64  \n",
      " 37  ct_flw_http_mthd  733561 non-null   float64\n",
      " 38  is_ftp_login      706633 non-null   float64\n",
      " 39  ct_ftp_cmd        1140045 non-null  object \n",
      " 40  ct_srv_src        1140045 non-null  int64  \n",
      " 41  ct_srv_dst        1140045 non-null  int64  \n",
      " 42  ct_dst_ltm        1140045 non-null  int64  \n",
      " 43  ct_src_ ltm       1140045 non-null  int64  \n",
      " 44  ct_src_dport_ltm  1140045 non-null  int64  \n",
      " 45  ct_dst_sport_ltm  1140045 non-null  int64  \n",
      " 46  ct_dst_src_ltm    1140045 non-null  int64  \n",
      " 47  fdia_category     111109 non-null   object \n",
      " 48  Label             1140045 non-null  int64  \n",
      "dtypes: float64(12), int64(28), object(9)\n",
      "memory usage: 434.9+ MB\n"
     ]
    }
   ],
   "source": [
    "df.info()"
   ]
  },
  {
   "cell_type": "code",
   "execution_count": 40,
   "metadata": {},
   "outputs": [
    {
     "data": {
      "text/plain": [
       "array(['srcip', 'dstip', 'proto', 'state', 'service'], dtype=object)"
      ]
     },
     "execution_count": 40,
     "metadata": {},
     "output_type": "execute_result"
    }
   ],
   "source": [
    "nominal_cols = np.where(feature_types == \"nominal\")[0]\n",
    "nominal_names = feature_names[nominal_cols]\n",
    "nominal_names"
   ]
  },
  {
   "cell_type": "code",
   "execution_count": 41,
   "metadata": {},
   "outputs": [
    {
     "data": {
      "text/html": [
       "<div>\n",
       "<style scoped>\n",
       "    .dataframe tbody tr th:only-of-type {\n",
       "        vertical-align: middle;\n",
       "    }\n",
       "\n",
       "    .dataframe tbody tr th {\n",
       "        vertical-align: top;\n",
       "    }\n",
       "\n",
       "    .dataframe thead th {\n",
       "        text-align: right;\n",
       "    }\n",
       "</style>\n",
       "<table border=\"1\" class=\"dataframe\">\n",
       "  <thead>\n",
       "    <tr style=\"text-align: right;\">\n",
       "      <th></th>\n",
       "      <th>srcip</th>\n",
       "      <th>dstip</th>\n",
       "      <th>proto</th>\n",
       "      <th>state</th>\n",
       "      <th>service</th>\n",
       "    </tr>\n",
       "  </thead>\n",
       "  <tbody>\n",
       "    <tr>\n",
       "      <th>0</th>\n",
       "      <td>ï»¿59.166.0.0</td>\n",
       "      <td>149.171.126.6</td>\n",
       "      <td>udp</td>\n",
       "      <td>CON</td>\n",
       "      <td>dns</td>\n",
       "    </tr>\n",
       "    <tr>\n",
       "      <th>1</th>\n",
       "      <td>59.166.0.0</td>\n",
       "      <td>149.171.126.9</td>\n",
       "      <td>udp</td>\n",
       "      <td>CON</td>\n",
       "      <td>-</td>\n",
       "    </tr>\n",
       "    <tr>\n",
       "      <th>2</th>\n",
       "      <td>59.166.0.6</td>\n",
       "      <td>149.171.126.7</td>\n",
       "      <td>udp</td>\n",
       "      <td>CON</td>\n",
       "      <td>dns</td>\n",
       "    </tr>\n",
       "    <tr>\n",
       "      <th>3</th>\n",
       "      <td>59.166.0.5</td>\n",
       "      <td>149.171.126.5</td>\n",
       "      <td>udp</td>\n",
       "      <td>CON</td>\n",
       "      <td>dns</td>\n",
       "    </tr>\n",
       "    <tr>\n",
       "      <th>4</th>\n",
       "      <td>59.166.0.3</td>\n",
       "      <td>149.171.126.0</td>\n",
       "      <td>udp</td>\n",
       "      <td>CON</td>\n",
       "      <td>dns</td>\n",
       "    </tr>\n",
       "    <tr>\n",
       "      <th>...</th>\n",
       "      <td>...</td>\n",
       "      <td>...</td>\n",
       "      <td>...</td>\n",
       "      <td>...</td>\n",
       "      <td>...</td>\n",
       "    </tr>\n",
       "    <tr>\n",
       "      <th>440039</th>\n",
       "      <td>59.166.0.5</td>\n",
       "      <td>149.171.126.7</td>\n",
       "      <td>tcp</td>\n",
       "      <td>FIN</td>\n",
       "      <td>ftp-data</td>\n",
       "    </tr>\n",
       "    <tr>\n",
       "      <th>440040</th>\n",
       "      <td>59.166.0.7</td>\n",
       "      <td>149.171.126.4</td>\n",
       "      <td>tcp</td>\n",
       "      <td>CON</td>\n",
       "      <td>ftp</td>\n",
       "    </tr>\n",
       "    <tr>\n",
       "      <th>440041</th>\n",
       "      <td>59.166.0.3</td>\n",
       "      <td>149.171.126.9</td>\n",
       "      <td>tcp</td>\n",
       "      <td>CON</td>\n",
       "      <td>ftp</td>\n",
       "    </tr>\n",
       "    <tr>\n",
       "      <th>440042</th>\n",
       "      <td>59.166.0.9</td>\n",
       "      <td>149.171.126.0</td>\n",
       "      <td>tcp</td>\n",
       "      <td>CON</td>\n",
       "      <td>http</td>\n",
       "    </tr>\n",
       "    <tr>\n",
       "      <th>440043</th>\n",
       "      <td>175.45.176.0</td>\n",
       "      <td>149.171.126.17</td>\n",
       "      <td>tcp</td>\n",
       "      <td>CON</td>\n",
       "      <td>pop3</td>\n",
       "    </tr>\n",
       "  </tbody>\n",
       "</table>\n",
       "<p>1140045 rows × 5 columns</p>\n",
       "</div>"
      ],
      "text/plain": [
       "                srcip           dstip proto state   service\n",
       "0       ï»¿59.166.0.0   149.171.126.6   udp   CON       dns\n",
       "1          59.166.0.0   149.171.126.9   udp   CON         -\n",
       "2          59.166.0.6   149.171.126.7   udp   CON       dns\n",
       "3          59.166.0.5   149.171.126.5   udp   CON       dns\n",
       "4          59.166.0.3   149.171.126.0   udp   CON       dns\n",
       "...               ...             ...   ...   ...       ...\n",
       "440039     59.166.0.5   149.171.126.7   tcp   FIN  ftp-data\n",
       "440040     59.166.0.7   149.171.126.4   tcp   CON       ftp\n",
       "440041     59.166.0.3   149.171.126.9   tcp   CON       ftp\n",
       "440042     59.166.0.9   149.171.126.0   tcp   CON      http\n",
       "440043   175.45.176.0  149.171.126.17   tcp   CON      pop3\n",
       "\n",
       "[1140045 rows x 5 columns]"
      ]
     },
     "execution_count": 41,
     "metadata": {},
     "output_type": "execute_result"
    }
   ],
   "source": [
    "df[nominal_names]"
   ]
  },
  {
   "cell_type": "code",
   "execution_count": 42,
   "metadata": {},
   "outputs": [],
   "source": [
    "df.drop(['srcip', 'dstip', 'service', 'Label'],axis=1, inplace=True)"
   ]
  },
  {
   "cell_type": "code",
   "execution_count": 43,
   "metadata": {},
   "outputs": [
    {
     "data": {
      "text/plain": [
       "array([      0,       0,       0,       0,       0,       0,       0,\n",
       "             0,       0,       0,       0,       0,       0,       0,\n",
       "             0,       0,       0,       0,       0,       0,       0,\n",
       "             0,       0,       0,       0,       0,       0,       0,\n",
       "             0,       0,       0,       0,       0,       0,  406484,\n",
       "        433412,       0,       0,       0,       0,       0,       0,\n",
       "             0,       0, 1028936], dtype=int64)"
      ]
     },
     "execution_count": 43,
     "metadata": {},
     "output_type": "execute_result"
    }
   ],
   "source": [
    "df.isna().sum().to_numpy()"
   ]
  },
  {
   "cell_type": "code",
   "execution_count": 44,
   "metadata": {},
   "outputs": [],
   "source": [
    "df.dropna(inplace=True)"
   ]
  },
  {
   "cell_type": "code",
   "execution_count": 45,
   "metadata": {},
   "outputs": [
    {
     "data": {
      "text/plain": [
       "array([0, 0, 0, 0, 0, 0, 0, 0, 0, 0, 0, 0, 0, 0, 0, 0, 0, 0, 0, 0, 0, 0,\n",
       "       0, 0, 0, 0, 0, 0, 0, 0, 0, 0, 0, 0, 0, 0, 0, 0, 0, 0, 0, 0, 0, 0,\n",
       "       0], dtype=int64)"
      ]
     },
     "execution_count": 45,
     "metadata": {},
     "output_type": "execute_result"
    }
   ],
   "source": [
    "df.isna().sum().to_numpy()"
   ]
  },
  {
   "cell_type": "code",
   "execution_count": 46,
   "metadata": {},
   "outputs": [],
   "source": [
    "df[\"fdia_category\"] = df[\"fdia_category\"].fillna('Benign')"
   ]
  },
  {
   "cell_type": "code",
   "execution_count": 47,
   "metadata": {},
   "outputs": [],
   "source": [
    "df[\"fdia_category\"] = df[\"fdia_category\"].replace(' Fuzzers','Fuzzers')\n",
    "df[\"fdia_category\"] = df[\"fdia_category\"].replace(' Fuzzers ','Fuzzers')\n",
    "df[\"fdia_category\"] = df[\"fdia_category\"].replace(' Reconnaissance','Reconnaissance')\n",
    "df[\"fdia_category\"] = df[\"fdia_category\"].replace(' Reconnaissance ','Reconnaissance')\n",
    "df[\"fdia_category\"] = df[\"fdia_category\"].replace(' Shellcode','Shellcode')\n",
    "df[\"fdia_category\"] = df[\"fdia_category\"].replace(' Shellcode ','Shellcode')\n",
    "df[\"fdia_category\"] = df[\"fdia_category\"].replace('Backdoors','Backdoor')"
   ]
  },
  {
   "cell_type": "code",
   "execution_count": 48,
   "metadata": {},
   "outputs": [
    {
     "data": {
      "text/plain": [
       "array(['Exploits', 'Reconnaissance', 'DoS', 'Generic', 'Shellcode',\n",
       "       'Fuzzers', 'Worms', 'Backdoor', 'Analysis'], dtype=object)"
      ]
     },
     "execution_count": 48,
     "metadata": {},
     "output_type": "execute_result"
    }
   ],
   "source": [
    "df['fdia_category'].unique()"
   ]
  },
  {
   "cell_type": "code",
   "execution_count": 49,
   "metadata": {},
   "outputs": [
    {
     "data": {
      "text/plain": [
       "<matplotlib.patches.Circle at 0x21407538d60>"
      ]
     },
     "execution_count": 49,
     "metadata": {},
     "output_type": "execute_result"
    },
    {
     "data": {
      "image/png": "[encoded data removed]",
      "text/plain": [
       "<Figure size 720x576 with 1 Axes>"
      ]
     },
     "metadata": {},
     "output_type": "display_data"
    }
   ],
   "source": [
    "plt.figure(figsize=(10, 8))\n",
    "circle = plt.Circle((0, 0), 0.7, color='white')\n",
    "plt.title('Attack Type Distribution')\n",
    "plt.pie(df['fdia_category'].value_counts(), labels=df['fdia_category'].unique())\n",
    "p = plt.gcf()\n",
    "p.gca().add_artist(circle)"
   ]
  },
  {
   "cell_type": "code",
   "execution_count": null,
   "metadata": {},
   "outputs": [],
   "source": []
  },
  {
   "cell_type": "code",
   "execution_count": 50,
   "metadata": {},
   "outputs": [
    {
     "data": {
      "text/plain": [
       "array([ 0,  2,  4,  5, 13], dtype=int64)"
      ]
     },
     "execution_count": 50,
     "metadata": {},
     "output_type": "execute_result"
    }
   ],
   "source": [
    "nominal_cols"
   ]
  },
  {
   "cell_type": "code",
   "execution_count": 51,
   "metadata": {},
   "outputs": [
    {
     "data": {
      "text/html": [
       "<div>\n",
       "<style scoped>\n",
       "    .dataframe tbody tr th:only-of-type {\n",
       "        vertical-align: middle;\n",
       "    }\n",
       "\n",
       "    .dataframe tbody tr th {\n",
       "        vertical-align: top;\n",
       "    }\n",
       "\n",
       "    .dataframe thead th {\n",
       "        text-align: right;\n",
       "    }\n",
       "</style>\n",
       "<table border=\"1\" class=\"dataframe\">\n",
       "  <thead>\n",
       "    <tr style=\"text-align: right;\">\n",
       "      <th></th>\n",
       "      <th>sport</th>\n",
       "      <th>dsport</th>\n",
       "      <th>proto</th>\n",
       "      <th>state</th>\n",
       "      <th>dur</th>\n",
       "      <th>sbytes</th>\n",
       "      <th>dbytes</th>\n",
       "      <th>sttl</th>\n",
       "      <th>dttl</th>\n",
       "      <th>sloss</th>\n",
       "      <th>...</th>\n",
       "      <th>is_ftp_login</th>\n",
       "      <th>ct_ftp_cmd</th>\n",
       "      <th>ct_srv_src</th>\n",
       "      <th>ct_srv_dst</th>\n",
       "      <th>ct_dst_ltm</th>\n",
       "      <th>ct_src_ ltm</th>\n",
       "      <th>ct_src_dport_ltm</th>\n",
       "      <th>ct_dst_sport_ltm</th>\n",
       "      <th>ct_dst_src_ltm</th>\n",
       "      <th>fdia_category</th>\n",
       "    </tr>\n",
       "  </thead>\n",
       "  <tbody>\n",
       "    <tr>\n",
       "      <th>20</th>\n",
       "      <td>21223</td>\n",
       "      <td>32780</td>\n",
       "      <td>udp</td>\n",
       "      <td>INT</td>\n",
       "      <td>0.000021</td>\n",
       "      <td>728</td>\n",
       "      <td>0</td>\n",
       "      <td>254</td>\n",
       "      <td>0</td>\n",
       "      <td>0</td>\n",
       "      <td>...</td>\n",
       "      <td>0.0</td>\n",
       "      <td>0</td>\n",
       "      <td>1</td>\n",
       "      <td>1</td>\n",
       "      <td>1</td>\n",
       "      <td>1</td>\n",
       "      <td>1</td>\n",
       "      <td>1</td>\n",
       "      <td>1</td>\n",
       "      <td>Exploits</td>\n",
       "    </tr>\n",
       "    <tr>\n",
       "      <th>21</th>\n",
       "      <td>23357</td>\n",
       "      <td>80</td>\n",
       "      <td>tcp</td>\n",
       "      <td>FIN</td>\n",
       "      <td>0.240139</td>\n",
       "      <td>918</td>\n",
       "      <td>25552</td>\n",
       "      <td>62</td>\n",
       "      <td>252</td>\n",
       "      <td>2</td>\n",
       "      <td>...</td>\n",
       "      <td>0.0</td>\n",
       "      <td>0</td>\n",
       "      <td>3</td>\n",
       "      <td>2</td>\n",
       "      <td>2</td>\n",
       "      <td>1</td>\n",
       "      <td>1</td>\n",
       "      <td>1</td>\n",
       "      <td>1</td>\n",
       "      <td>Exploits</td>\n",
       "    </tr>\n",
       "    <tr>\n",
       "      <th>22</th>\n",
       "      <td>13284</td>\n",
       "      <td>80</td>\n",
       "      <td>tcp</td>\n",
       "      <td>FIN</td>\n",
       "      <td>2.390390</td>\n",
       "      <td>1362</td>\n",
       "      <td>268</td>\n",
       "      <td>254</td>\n",
       "      <td>252</td>\n",
       "      <td>6</td>\n",
       "      <td>...</td>\n",
       "      <td>0.0</td>\n",
       "      <td>0</td>\n",
       "      <td>5</td>\n",
       "      <td>2</td>\n",
       "      <td>2</td>\n",
       "      <td>1</td>\n",
       "      <td>1</td>\n",
       "      <td>1</td>\n",
       "      <td>1</td>\n",
       "      <td>Reconnaissance</td>\n",
       "    </tr>\n",
       "    <tr>\n",
       "      <th>39</th>\n",
       "      <td>13792</td>\n",
       "      <td>5555</td>\n",
       "      <td>tcp</td>\n",
       "      <td>FIN</td>\n",
       "      <td>0.175190</td>\n",
       "      <td>8168</td>\n",
       "      <td>268</td>\n",
       "      <td>254</td>\n",
       "      <td>252</td>\n",
       "      <td>4</td>\n",
       "      <td>...</td>\n",
       "      <td>0.0</td>\n",
       "      <td>0</td>\n",
       "      <td>1</td>\n",
       "      <td>1</td>\n",
       "      <td>1</td>\n",
       "      <td>1</td>\n",
       "      <td>1</td>\n",
       "      <td>1</td>\n",
       "      <td>1</td>\n",
       "      <td>Exploits</td>\n",
       "    </tr>\n",
       "    <tr>\n",
       "      <th>40</th>\n",
       "      <td>26939</td>\n",
       "      <td>80</td>\n",
       "      <td>tcp</td>\n",
       "      <td>FIN</td>\n",
       "      <td>0.190600</td>\n",
       "      <td>844</td>\n",
       "      <td>268</td>\n",
       "      <td>254</td>\n",
       "      <td>252</td>\n",
       "      <td>2</td>\n",
       "      <td>...</td>\n",
       "      <td>0.0</td>\n",
       "      <td>0</td>\n",
       "      <td>3</td>\n",
       "      <td>1</td>\n",
       "      <td>1</td>\n",
       "      <td>1</td>\n",
       "      <td>1</td>\n",
       "      <td>1</td>\n",
       "      <td>1</td>\n",
       "      <td>Exploits</td>\n",
       "    </tr>\n",
       "  </tbody>\n",
       "</table>\n",
       "<p>5 rows × 45 columns</p>\n",
       "</div>"
      ],
      "text/plain": [
       "    sport dsport proto state       dur  sbytes  dbytes  sttl  dttl  sloss  \\\n",
       "20  21223  32780   udp   INT  0.000021     728       0   254     0      0   \n",
       "21  23357     80   tcp   FIN  0.240139     918   25552    62   252      2   \n",
       "22  13284     80   tcp   FIN  2.390390    1362     268   254   252      6   \n",
       "39  13792   5555   tcp   FIN  0.175190    8168     268   254   252      4   \n",
       "40  26939     80   tcp   FIN  0.190600     844     268   254   252      2   \n",
       "\n",
       "    ...  is_ftp_login  ct_ftp_cmd  ct_srv_src  ct_srv_dst  ct_dst_ltm  \\\n",
       "20  ...           0.0           0           1           1           1   \n",
       "21  ...           0.0           0           3           2           2   \n",
       "22  ...           0.0           0           5           2           2   \n",
       "39  ...           0.0           0           1           1           1   \n",
       "40  ...           0.0           0           3           1           1   \n",
       "\n",
       "    ct_src_ ltm  ct_src_dport_ltm  ct_dst_sport_ltm  ct_dst_src_ltm  \\\n",
       "20            1                 1                 1               1   \n",
       "21            1                 1                 1               1   \n",
       "22            1                 1                 1               1   \n",
       "39            1                 1                 1               1   \n",
       "40            1                 1                 1               1   \n",
       "\n",
       "     fdia_category  \n",
       "20        Exploits  \n",
       "21        Exploits  \n",
       "22  Reconnaissance  \n",
       "39        Exploits  \n",
       "40        Exploits  \n",
       "\n",
       "[5 rows x 45 columns]"
      ]
     },
     "execution_count": 51,
     "metadata": {},
     "output_type": "execute_result"
    }
   ],
   "source": [
    "df.head()"
   ]
  },
  {
   "cell_type": "code",
   "execution_count": null,
   "metadata": {},
   "outputs": [],
   "source": []
  },
  {
   "cell_type": "code",
   "execution_count": 52,
   "metadata": {},
   "outputs": [],
   "source": [
    "le = LabelEncoder()\n",
    "df['proto']= le.fit_transform(df['proto'])"
   ]
  },
  {
   "cell_type": "code",
   "execution_count": 53,
   "metadata": {},
   "outputs": [],
   "source": [
    "le = LabelEncoder()\n",
    "df['state']= le.fit_transform(df['state'])"
   ]
  },
  {
   "cell_type": "code",
   "execution_count": 54,
   "metadata": {},
   "outputs": [],
   "source": [
    "le = LabelEncoder()\n",
    "df['fdia_category']= le.fit_transform(df['fdia_category'])"
   ]
  },
  {
   "cell_type": "code",
   "execution_count": 55,
   "metadata": {},
   "outputs": [],
   "source": [
    "df.replace([np.inf, -np.inf], np.nan, inplace=True)"
   ]
  },
  {
   "cell_type": "code",
   "execution_count": 56,
   "metadata": {},
   "outputs": [],
   "source": [
    "df.dropna(inplace=True)"
   ]
  },
  {
   "cell_type": "code",
   "execution_count": 57,
   "metadata": {},
   "outputs": [],
   "source": [
    "X_A = df.drop(['fdia_category'],axis=1)"
   ]
  },
  {
   "cell_type": "code",
   "execution_count": 58,
   "metadata": {},
   "outputs": [],
   "source": [
    "y_A =  df['fdia_category']"
   ]
  },
  {
   "cell_type": "code",
   "execution_count": 59,
   "metadata": {},
   "outputs": [
    {
     "data": {
      "text/plain": [
       "array([3, 6, 2, 5, 7, 4, 8, 1, 0])"
      ]
     },
     "execution_count": 59,
     "metadata": {},
     "output_type": "execute_result"
    }
   ],
   "source": [
    "df['fdia_category'].unique()"
   ]
  },
  {
   "cell_type": "code",
   "execution_count": null,
   "metadata": {},
   "outputs": [],
   "source": []
  },
  {
   "cell_type": "code",
   "execution_count": 60,
   "metadata": {},
   "outputs": [],
   "source": [
    "bestfeatures = SelectKBest(score_func=f_classif, k=10)"
   ]
  },
  {
   "cell_type": "code",
   "execution_count": 61,
   "metadata": {},
   "outputs": [
    {
     "name": "stderr",
     "output_type": "stream",
     "text": [
      "s:\\anacondaprogramdata\\anaconda3\\lib\\site-packages\\sklearn\\feature_selection\\_univariate_selection.py:112: UserWarning: Features [32] are constant.\n",
      "  warnings.warn(\"Features %s are constant.\" % constant_features_idx, UserWarning)\n",
      "s:\\anacondaprogramdata\\anaconda3\\lib\\site-packages\\sklearn\\feature_selection\\_univariate_selection.py:113: RuntimeWarning: invalid value encountered in true_divide\n",
      "  f = msb / msw\n"
     ]
    }
   ],
   "source": [
    "fit = bestfeatures.fit(X_A,y_A)"
   ]
  },
  {
   "cell_type": "code",
   "execution_count": 62,
   "metadata": {},
   "outputs": [],
   "source": [
    "dfscores = pd.DataFrame(fit.scores_)\n",
    "dfcolumns = pd.DataFrame(X_A.columns)"
   ]
  },
  {
   "cell_type": "code",
   "execution_count": 63,
   "metadata": {},
   "outputs": [],
   "source": [
    "featureScores = pd.concat([dfcolumns,dfscores],axis=1)"
   ]
  },
  {
   "cell_type": "code",
   "execution_count": 64,
   "metadata": {},
   "outputs": [
    {
     "data": {
      "text/html": [
       "<div>\n",
       "<style scoped>\n",
       "    .dataframe tbody tr th:only-of-type {\n",
       "        vertical-align: middle;\n",
       "    }\n",
       "\n",
       "    .dataframe tbody tr th {\n",
       "        vertical-align: top;\n",
       "    }\n",
       "\n",
       "    .dataframe thead th {\n",
       "        text-align: right;\n",
       "    }\n",
       "</style>\n",
       "<table border=\"1\" class=\"dataframe\">\n",
       "  <thead>\n",
       "    <tr style=\"text-align: right;\">\n",
       "      <th></th>\n",
       "      <th>0</th>\n",
       "      <th>0</th>\n",
       "    </tr>\n",
       "  </thead>\n",
       "  <tbody>\n",
       "    <tr>\n",
       "      <th>0</th>\n",
       "      <td>sport</td>\n",
       "      <td>214.402678</td>\n",
       "    </tr>\n",
       "    <tr>\n",
       "      <th>1</th>\n",
       "      <td>dsport</td>\n",
       "      <td>626.975664</td>\n",
       "    </tr>\n",
       "    <tr>\n",
       "      <th>2</th>\n",
       "      <td>proto</td>\n",
       "      <td>440.719481</td>\n",
       "    </tr>\n",
       "    <tr>\n",
       "      <th>3</th>\n",
       "      <td>state</td>\n",
       "      <td>1523.178553</td>\n",
       "    </tr>\n",
       "    <tr>\n",
       "      <th>4</th>\n",
       "      <td>dur</td>\n",
       "      <td>84.778565</td>\n",
       "    </tr>\n",
       "    <tr>\n",
       "      <th>5</th>\n",
       "      <td>sbytes</td>\n",
       "      <td>12.922188</td>\n",
       "    </tr>\n",
       "    <tr>\n",
       "      <th>6</th>\n",
       "      <td>dbytes</td>\n",
       "      <td>16.014900</td>\n",
       "    </tr>\n",
       "    <tr>\n",
       "      <th>7</th>\n",
       "      <td>sttl</td>\n",
       "      <td>1774.720593</td>\n",
       "    </tr>\n",
       "    <tr>\n",
       "      <th>8</th>\n",
       "      <td>dttl</td>\n",
       "      <td>1693.223279</td>\n",
       "    </tr>\n",
       "    <tr>\n",
       "      <th>9</th>\n",
       "      <td>sloss</td>\n",
       "      <td>17.155542</td>\n",
       "    </tr>\n",
       "    <tr>\n",
       "      <th>10</th>\n",
       "      <td>dloss</td>\n",
       "      <td>20.827158</td>\n",
       "    </tr>\n",
       "    <tr>\n",
       "      <th>11</th>\n",
       "      <td>Sload</td>\n",
       "      <td>60.413381</td>\n",
       "    </tr>\n",
       "    <tr>\n",
       "      <th>12</th>\n",
       "      <td>Dload</td>\n",
       "      <td>145.280114</td>\n",
       "    </tr>\n",
       "    <tr>\n",
       "      <th>13</th>\n",
       "      <td>Spkts</td>\n",
       "      <td>23.139874</td>\n",
       "    </tr>\n",
       "    <tr>\n",
       "      <th>14</th>\n",
       "      <td>Dpkts</td>\n",
       "      <td>31.455356</td>\n",
       "    </tr>\n",
       "    <tr>\n",
       "      <th>15</th>\n",
       "      <td>swin</td>\n",
       "      <td>1659.966816</td>\n",
       "    </tr>\n",
       "    <tr>\n",
       "      <th>16</th>\n",
       "      <td>dwin</td>\n",
       "      <td>1658.268364</td>\n",
       "    </tr>\n",
       "    <tr>\n",
       "      <th>17</th>\n",
       "      <td>stcpb</td>\n",
       "      <td>861.815623</td>\n",
       "    </tr>\n",
       "    <tr>\n",
       "      <th>18</th>\n",
       "      <td>dtcpb</td>\n",
       "      <td>873.947625</td>\n",
       "    </tr>\n",
       "    <tr>\n",
       "      <th>19</th>\n",
       "      <td>smeansz</td>\n",
       "      <td>253.625117</td>\n",
       "    </tr>\n",
       "    <tr>\n",
       "      <th>20</th>\n",
       "      <td>dmeansz</td>\n",
       "      <td>509.804877</td>\n",
       "    </tr>\n",
       "    <tr>\n",
       "      <th>21</th>\n",
       "      <td>trans_depth</td>\n",
       "      <td>151.233170</td>\n",
       "    </tr>\n",
       "    <tr>\n",
       "      <th>22</th>\n",
       "      <td>res_bdy_len</td>\n",
       "      <td>7.286500</td>\n",
       "    </tr>\n",
       "    <tr>\n",
       "      <th>23</th>\n",
       "      <td>Sjit</td>\n",
       "      <td>82.341690</td>\n",
       "    </tr>\n",
       "    <tr>\n",
       "      <th>24</th>\n",
       "      <td>Djit</td>\n",
       "      <td>58.442356</td>\n",
       "    </tr>\n",
       "    <tr>\n",
       "      <th>25</th>\n",
       "      <td>Stime</td>\n",
       "      <td>378.947677</td>\n",
       "    </tr>\n",
       "    <tr>\n",
       "      <th>26</th>\n",
       "      <td>Ltime</td>\n",
       "      <td>377.241891</td>\n",
       "    </tr>\n",
       "    <tr>\n",
       "      <th>27</th>\n",
       "      <td>Sintpkt</td>\n",
       "      <td>57.878791</td>\n",
       "    </tr>\n",
       "    <tr>\n",
       "      <th>28</th>\n",
       "      <td>Dintpkt</td>\n",
       "      <td>66.892153</td>\n",
       "    </tr>\n",
       "    <tr>\n",
       "      <th>29</th>\n",
       "      <td>tcprtt</td>\n",
       "      <td>986.081523</td>\n",
       "    </tr>\n",
       "    <tr>\n",
       "      <th>30</th>\n",
       "      <td>synack</td>\n",
       "      <td>816.326789</td>\n",
       "    </tr>\n",
       "    <tr>\n",
       "      <th>31</th>\n",
       "      <td>ackdat</td>\n",
       "      <td>957.568678</td>\n",
       "    </tr>\n",
       "    <tr>\n",
       "      <th>32</th>\n",
       "      <td>is_sm_ips_ports</td>\n",
       "      <td>NaN</td>\n",
       "    </tr>\n",
       "    <tr>\n",
       "      <th>33</th>\n",
       "      <td>ct_state_ttl</td>\n",
       "      <td>1041.123353</td>\n",
       "    </tr>\n",
       "    <tr>\n",
       "      <th>34</th>\n",
       "      <td>ct_flw_http_mthd</td>\n",
       "      <td>160.954424</td>\n",
       "    </tr>\n",
       "    <tr>\n",
       "      <th>35</th>\n",
       "      <td>is_ftp_login</td>\n",
       "      <td>11.794002</td>\n",
       "    </tr>\n",
       "    <tr>\n",
       "      <th>36</th>\n",
       "      <td>ct_ftp_cmd</td>\n",
       "      <td>11.794002</td>\n",
       "    </tr>\n",
       "    <tr>\n",
       "      <th>37</th>\n",
       "      <td>ct_srv_src</td>\n",
       "      <td>838.728071</td>\n",
       "    </tr>\n",
       "    <tr>\n",
       "      <th>38</th>\n",
       "      <td>ct_srv_dst</td>\n",
       "      <td>1107.554270</td>\n",
       "    </tr>\n",
       "    <tr>\n",
       "      <th>39</th>\n",
       "      <td>ct_dst_ltm</td>\n",
       "      <td>867.961290</td>\n",
       "    </tr>\n",
       "    <tr>\n",
       "      <th>40</th>\n",
       "      <td>ct_src_ ltm</td>\n",
       "      <td>553.177798</td>\n",
       "    </tr>\n",
       "    <tr>\n",
       "      <th>41</th>\n",
       "      <td>ct_src_dport_ltm</td>\n",
       "      <td>1025.926043</td>\n",
       "    </tr>\n",
       "    <tr>\n",
       "      <th>42</th>\n",
       "      <td>ct_dst_sport_ltm</td>\n",
       "      <td>961.970851</td>\n",
       "    </tr>\n",
       "    <tr>\n",
       "      <th>43</th>\n",
       "      <td>ct_dst_src_ltm</td>\n",
       "      <td>950.114391</td>\n",
       "    </tr>\n",
       "  </tbody>\n",
       "</table>\n",
       "</div>"
      ],
      "text/plain": [
       "                   0            0\n",
       "0              sport   214.402678\n",
       "1             dsport   626.975664\n",
       "2              proto   440.719481\n",
       "3              state  1523.178553\n",
       "4                dur    84.778565\n",
       "5             sbytes    12.922188\n",
       "6             dbytes    16.014900\n",
       "7               sttl  1774.720593\n",
       "8               dttl  1693.223279\n",
       "9              sloss    17.155542\n",
       "10             dloss    20.827158\n",
       "11             Sload    60.413381\n",
       "12             Dload   145.280114\n",
       "13             Spkts    23.139874\n",
       "14             Dpkts    31.455356\n",
       "15              swin  1659.966816\n",
       "16              dwin  1658.268364\n",
       "17             stcpb   861.815623\n",
       "18             dtcpb   873.947625\n",
       "19           smeansz   253.625117\n",
       "20           dmeansz   509.804877\n",
       "21       trans_depth   151.233170\n",
       "22       res_bdy_len     7.286500\n",
       "23              Sjit    82.341690\n",
       "24              Djit    58.442356\n",
       "25             Stime   378.947677\n",
       "26             Ltime   377.241891\n",
       "27           Sintpkt    57.878791\n",
       "28           Dintpkt    66.892153\n",
       "29            tcprtt   986.081523\n",
       "30            synack   816.326789\n",
       "31            ackdat   957.568678\n",
       "32   is_sm_ips_ports          NaN\n",
       "33      ct_state_ttl  1041.123353\n",
       "34  ct_flw_http_mthd   160.954424\n",
       "35      is_ftp_login    11.794002\n",
       "36        ct_ftp_cmd    11.794002\n",
       "37        ct_srv_src   838.728071\n",
       "38        ct_srv_dst  1107.554270\n",
       "39        ct_dst_ltm   867.961290\n",
       "40       ct_src_ ltm   553.177798\n",
       "41  ct_src_dport_ltm  1025.926043\n",
       "42  ct_dst_sport_ltm   961.970851\n",
       "43    ct_dst_src_ltm   950.114391"
      ]
     },
     "execution_count": 64,
     "metadata": {},
     "output_type": "execute_result"
    }
   ],
   "source": [
    "featureScores"
   ]
  },
  {
   "cell_type": "code",
   "execution_count": 65,
   "metadata": {},
   "outputs": [],
   "source": [
    "featureScores.columns = ['Specs','Score']"
   ]
  },
  {
   "cell_type": "code",
   "execution_count": 66,
   "metadata": {},
   "outputs": [
    {
     "name": "stdout",
     "output_type": "stream",
     "text": [
      "               Specs        Score\n",
      "7               sttl  1774.720593\n",
      "8               dttl  1693.223279\n",
      "15              swin  1659.966816\n",
      "16              dwin  1658.268364\n",
      "3              state  1523.178553\n",
      "38        ct_srv_dst  1107.554270\n",
      "33      ct_state_ttl  1041.123353\n",
      "41  ct_src_dport_ltm  1025.926043\n",
      "29            tcprtt   986.081523\n",
      "42  ct_dst_sport_ltm   961.970851\n",
      "31            ackdat   957.568678\n",
      "43    ct_dst_src_ltm   950.114391\n",
      "18             dtcpb   873.947625\n",
      "39        ct_dst_ltm   867.961290\n",
      "17             stcpb   861.815623\n",
      "37        ct_srv_src   838.728071\n",
      "30            synack   816.326789\n",
      "1             dsport   626.975664\n",
      "40       ct_src_ ltm   553.177798\n",
      "20           dmeansz   509.804877\n",
      "2              proto   440.719481\n",
      "25             Stime   378.947677\n",
      "26             Ltime   377.241891\n",
      "19           smeansz   253.625117\n",
      "0              sport   214.402678\n",
      "34  ct_flw_http_mthd   160.954424\n",
      "21       trans_depth   151.233170\n",
      "12             Dload   145.280114\n",
      "4                dur    84.778565\n",
      "23              Sjit    82.341690\n"
     ]
    }
   ],
   "source": [
    "print(featureScores.nlargest(30,'Score'))"
   ]
  },
  {
   "cell_type": "code",
   "execution_count": 67,
   "metadata": {},
   "outputs": [],
   "source": [
    "result = featureScores.nlargest(30,'Score')"
   ]
  },
  {
   "cell_type": "code",
   "execution_count": 68,
   "metadata": {},
   "outputs": [
    {
     "data": {
      "text/html": [
       "<div>\n",
       "<style scoped>\n",
       "    .dataframe tbody tr th:only-of-type {\n",
       "        vertical-align: middle;\n",
       "    }\n",
       "\n",
       "    .dataframe tbody tr th {\n",
       "        vertical-align: top;\n",
       "    }\n",
       "\n",
       "    .dataframe thead th {\n",
       "        text-align: right;\n",
       "    }\n",
       "</style>\n",
       "<table border=\"1\" class=\"dataframe\">\n",
       "  <thead>\n",
       "    <tr style=\"text-align: right;\">\n",
       "      <th></th>\n",
       "      <th>Specs</th>\n",
       "      <th>Score</th>\n",
       "    </tr>\n",
       "  </thead>\n",
       "  <tbody>\n",
       "    <tr>\n",
       "      <th>7</th>\n",
       "      <td>sttl</td>\n",
       "      <td>1774.720593</td>\n",
       "    </tr>\n",
       "    <tr>\n",
       "      <th>8</th>\n",
       "      <td>dttl</td>\n",
       "      <td>1693.223279</td>\n",
       "    </tr>\n",
       "    <tr>\n",
       "      <th>15</th>\n",
       "      <td>swin</td>\n",
       "      <td>1659.966816</td>\n",
       "    </tr>\n",
       "    <tr>\n",
       "      <th>16</th>\n",
       "      <td>dwin</td>\n",
       "      <td>1658.268364</td>\n",
       "    </tr>\n",
       "    <tr>\n",
       "      <th>3</th>\n",
       "      <td>state</td>\n",
       "      <td>1523.178553</td>\n",
       "    </tr>\n",
       "    <tr>\n",
       "      <th>38</th>\n",
       "      <td>ct_srv_dst</td>\n",
       "      <td>1107.554270</td>\n",
       "    </tr>\n",
       "    <tr>\n",
       "      <th>33</th>\n",
       "      <td>ct_state_ttl</td>\n",
       "      <td>1041.123353</td>\n",
       "    </tr>\n",
       "    <tr>\n",
       "      <th>41</th>\n",
       "      <td>ct_src_dport_ltm</td>\n",
       "      <td>1025.926043</td>\n",
       "    </tr>\n",
       "    <tr>\n",
       "      <th>29</th>\n",
       "      <td>tcprtt</td>\n",
       "      <td>986.081523</td>\n",
       "    </tr>\n",
       "    <tr>\n",
       "      <th>42</th>\n",
       "      <td>ct_dst_sport_ltm</td>\n",
       "      <td>961.970851</td>\n",
       "    </tr>\n",
       "    <tr>\n",
       "      <th>31</th>\n",
       "      <td>ackdat</td>\n",
       "      <td>957.568678</td>\n",
       "    </tr>\n",
       "    <tr>\n",
       "      <th>43</th>\n",
       "      <td>ct_dst_src_ltm</td>\n",
       "      <td>950.114391</td>\n",
       "    </tr>\n",
       "    <tr>\n",
       "      <th>18</th>\n",
       "      <td>dtcpb</td>\n",
       "      <td>873.947625</td>\n",
       "    </tr>\n",
       "    <tr>\n",
       "      <th>39</th>\n",
       "      <td>ct_dst_ltm</td>\n",
       "      <td>867.961290</td>\n",
       "    </tr>\n",
       "    <tr>\n",
       "      <th>17</th>\n",
       "      <td>stcpb</td>\n",
       "      <td>861.815623</td>\n",
       "    </tr>\n",
       "    <tr>\n",
       "      <th>37</th>\n",
       "      <td>ct_srv_src</td>\n",
       "      <td>838.728071</td>\n",
       "    </tr>\n",
       "    <tr>\n",
       "      <th>30</th>\n",
       "      <td>synack</td>\n",
       "      <td>816.326789</td>\n",
       "    </tr>\n",
       "    <tr>\n",
       "      <th>1</th>\n",
       "      <td>dsport</td>\n",
       "      <td>626.975664</td>\n",
       "    </tr>\n",
       "    <tr>\n",
       "      <th>40</th>\n",
       "      <td>ct_src_ ltm</td>\n",
       "      <td>553.177798</td>\n",
       "    </tr>\n",
       "    <tr>\n",
       "      <th>20</th>\n",
       "      <td>dmeansz</td>\n",
       "      <td>509.804877</td>\n",
       "    </tr>\n",
       "    <tr>\n",
       "      <th>2</th>\n",
       "      <td>proto</td>\n",
       "      <td>440.719481</td>\n",
       "    </tr>\n",
       "    <tr>\n",
       "      <th>25</th>\n",
       "      <td>Stime</td>\n",
       "      <td>378.947677</td>\n",
       "    </tr>\n",
       "    <tr>\n",
       "      <th>26</th>\n",
       "      <td>Ltime</td>\n",
       "      <td>377.241891</td>\n",
       "    </tr>\n",
       "    <tr>\n",
       "      <th>19</th>\n",
       "      <td>smeansz</td>\n",
       "      <td>253.625117</td>\n",
       "    </tr>\n",
       "    <tr>\n",
       "      <th>0</th>\n",
       "      <td>sport</td>\n",
       "      <td>214.402678</td>\n",
       "    </tr>\n",
       "    <tr>\n",
       "      <th>34</th>\n",
       "      <td>ct_flw_http_mthd</td>\n",
       "      <td>160.954424</td>\n",
       "    </tr>\n",
       "    <tr>\n",
       "      <th>21</th>\n",
       "      <td>trans_depth</td>\n",
       "      <td>151.233170</td>\n",
       "    </tr>\n",
       "    <tr>\n",
       "      <th>12</th>\n",
       "      <td>Dload</td>\n",
       "      <td>145.280114</td>\n",
       "    </tr>\n",
       "    <tr>\n",
       "      <th>4</th>\n",
       "      <td>dur</td>\n",
       "      <td>84.778565</td>\n",
       "    </tr>\n",
       "    <tr>\n",
       "      <th>23</th>\n",
       "      <td>Sjit</td>\n",
       "      <td>82.341690</td>\n",
       "    </tr>\n",
       "  </tbody>\n",
       "</table>\n",
       "</div>"
      ],
      "text/plain": [
       "               Specs        Score\n",
       "7               sttl  1774.720593\n",
       "8               dttl  1693.223279\n",
       "15              swin  1659.966816\n",
       "16              dwin  1658.268364\n",
       "3              state  1523.178553\n",
       "38        ct_srv_dst  1107.554270\n",
       "33      ct_state_ttl  1041.123353\n",
       "41  ct_src_dport_ltm  1025.926043\n",
       "29            tcprtt   986.081523\n",
       "42  ct_dst_sport_ltm   961.970851\n",
       "31            ackdat   957.568678\n",
       "43    ct_dst_src_ltm   950.114391\n",
       "18             dtcpb   873.947625\n",
       "39        ct_dst_ltm   867.961290\n",
       "17             stcpb   861.815623\n",
       "37        ct_srv_src   838.728071\n",
       "30            synack   816.326789\n",
       "1             dsport   626.975664\n",
       "40       ct_src_ ltm   553.177798\n",
       "20           dmeansz   509.804877\n",
       "2              proto   440.719481\n",
       "25             Stime   378.947677\n",
       "26             Ltime   377.241891\n",
       "19           smeansz   253.625117\n",
       "0              sport   214.402678\n",
       "34  ct_flw_http_mthd   160.954424\n",
       "21       trans_depth   151.233170\n",
       "12             Dload   145.280114\n",
       "4                dur    84.778565\n",
       "23              Sjit    82.341690"
      ]
     },
     "execution_count": 68,
     "metadata": {},
     "output_type": "execute_result"
    }
   ],
   "source": [
    "result"
   ]
  },
  {
   "cell_type": "code",
   "execution_count": 69,
   "metadata": {},
   "outputs": [],
   "source": [
    "df = df[result[\"Specs\"]]"
   ]
  },
  {
   "cell_type": "code",
   "execution_count": 70,
   "metadata": {},
   "outputs": [
    {
     "data": {
      "text/html": [
       "<div>\n",
       "<style scoped>\n",
       "    .dataframe tbody tr th:only-of-type {\n",
       "        vertical-align: middle;\n",
       "    }\n",
       "\n",
       "    .dataframe tbody tr th {\n",
       "        vertical-align: top;\n",
       "    }\n",
       "\n",
       "    .dataframe thead th {\n",
       "        text-align: right;\n",
       "    }\n",
       "</style>\n",
       "<table border=\"1\" class=\"dataframe\">\n",
       "  <thead>\n",
       "    <tr style=\"text-align: right;\">\n",
       "      <th></th>\n",
       "      <th>sttl</th>\n",
       "      <th>dttl</th>\n",
       "      <th>swin</th>\n",
       "      <th>dwin</th>\n",
       "      <th>state</th>\n",
       "      <th>ct_srv_dst</th>\n",
       "      <th>ct_state_ttl</th>\n",
       "      <th>ct_src_dport_ltm</th>\n",
       "      <th>tcprtt</th>\n",
       "      <th>ct_dst_sport_ltm</th>\n",
       "      <th>...</th>\n",
       "      <th>proto</th>\n",
       "      <th>Stime</th>\n",
       "      <th>Ltime</th>\n",
       "      <th>smeansz</th>\n",
       "      <th>sport</th>\n",
       "      <th>ct_flw_http_mthd</th>\n",
       "      <th>trans_depth</th>\n",
       "      <th>Dload</th>\n",
       "      <th>dur</th>\n",
       "      <th>Sjit</th>\n",
       "    </tr>\n",
       "  </thead>\n",
       "  <tbody>\n",
       "    <tr>\n",
       "      <th>20</th>\n",
       "      <td>254</td>\n",
       "      <td>0</td>\n",
       "      <td>0</td>\n",
       "      <td>0</td>\n",
       "      <td>4</td>\n",
       "      <td>1</td>\n",
       "      <td>2</td>\n",
       "      <td>1</td>\n",
       "      <td>0.000000</td>\n",
       "      <td>1</td>\n",
       "      <td>...</td>\n",
       "      <td>115</td>\n",
       "      <td>1421927415</td>\n",
       "      <td>1421927415</td>\n",
       "      <td>364</td>\n",
       "      <td>21223</td>\n",
       "      <td>0.0</td>\n",
       "      <td>0</td>\n",
       "      <td>0.000000</td>\n",
       "      <td>0.000021</td>\n",
       "      <td>0.000000</td>\n",
       "    </tr>\n",
       "    <tr>\n",
       "      <th>21</th>\n",
       "      <td>62</td>\n",
       "      <td>252</td>\n",
       "      <td>255</td>\n",
       "      <td>255</td>\n",
       "      <td>3</td>\n",
       "      <td>2</td>\n",
       "      <td>1</td>\n",
       "      <td>1</td>\n",
       "      <td>0.051475</td>\n",
       "      <td>1</td>\n",
       "      <td>...</td>\n",
       "      <td>109</td>\n",
       "      <td>1421927416</td>\n",
       "      <td>1421927416</td>\n",
       "      <td>77</td>\n",
       "      <td>23357</td>\n",
       "      <td>1.0</td>\n",
       "      <td>1</td>\n",
       "      <td>815794.187500</td>\n",
       "      <td>0.240139</td>\n",
       "      <td>1170.481668</td>\n",
       "    </tr>\n",
       "    <tr>\n",
       "      <th>22</th>\n",
       "      <td>254</td>\n",
       "      <td>252</td>\n",
       "      <td>255</td>\n",
       "      <td>255</td>\n",
       "      <td>3</td>\n",
       "      <td>2</td>\n",
       "      <td>1</td>\n",
       "      <td>1</td>\n",
       "      <td>0.066088</td>\n",
       "      <td>1</td>\n",
       "      <td>...</td>\n",
       "      <td>109</td>\n",
       "      <td>1421927414</td>\n",
       "      <td>1421927416</td>\n",
       "      <td>97</td>\n",
       "      <td>13284</td>\n",
       "      <td>1.0</td>\n",
       "      <td>1</td>\n",
       "      <td>749.668518</td>\n",
       "      <td>2.390390</td>\n",
       "      <td>18786.711400</td>\n",
       "    </tr>\n",
       "    <tr>\n",
       "      <th>39</th>\n",
       "      <td>254</td>\n",
       "      <td>252</td>\n",
       "      <td>255</td>\n",
       "      <td>255</td>\n",
       "      <td>3</td>\n",
       "      <td>1</td>\n",
       "      <td>1</td>\n",
       "      <td>1</td>\n",
       "      <td>0.054878</td>\n",
       "      <td>1</td>\n",
       "      <td>...</td>\n",
       "      <td>109</td>\n",
       "      <td>1421927417</td>\n",
       "      <td>1421927417</td>\n",
       "      <td>583</td>\n",
       "      <td>13792</td>\n",
       "      <td>0.0</td>\n",
       "      <td>0</td>\n",
       "      <td>10228.894530</td>\n",
       "      <td>0.175190</td>\n",
       "      <td>774.788316</td>\n",
       "    </tr>\n",
       "    <tr>\n",
       "      <th>40</th>\n",
       "      <td>254</td>\n",
       "      <td>252</td>\n",
       "      <td>255</td>\n",
       "      <td>255</td>\n",
       "      <td>3</td>\n",
       "      <td>1</td>\n",
       "      <td>1</td>\n",
       "      <td>1</td>\n",
       "      <td>0.050675</td>\n",
       "      <td>1</td>\n",
       "      <td>...</td>\n",
       "      <td>109</td>\n",
       "      <td>1421927418</td>\n",
       "      <td>1421927418</td>\n",
       "      <td>84</td>\n",
       "      <td>26939</td>\n",
       "      <td>1.0</td>\n",
       "      <td>1</td>\n",
       "      <td>9401.888672</td>\n",
       "      <td>0.190600</td>\n",
       "      <td>996.632407</td>\n",
       "    </tr>\n",
       "  </tbody>\n",
       "</table>\n",
       "<p>5 rows × 30 columns</p>\n",
       "</div>"
      ],
      "text/plain": [
       "    sttl  dttl  swin  dwin  state  ct_srv_dst  ct_state_ttl  ct_src_dport_ltm  \\\n",
       "20   254     0     0     0      4           1             2                 1   \n",
       "21    62   252   255   255      3           2             1                 1   \n",
       "22   254   252   255   255      3           2             1                 1   \n",
       "39   254   252   255   255      3           1             1                 1   \n",
       "40   254   252   255   255      3           1             1                 1   \n",
       "\n",
       "      tcprtt  ct_dst_sport_ltm  ...  proto       Stime       Ltime  smeansz  \\\n",
       "20  0.000000                 1  ...    115  1421927415  1421927415      364   \n",
       "21  0.051475                 1  ...    109  1421927416  1421927416       77   \n",
       "22  0.066088                 1  ...    109  1421927414  1421927416       97   \n",
       "39  0.054878                 1  ...    109  1421927417  1421927417      583   \n",
       "40  0.050675                 1  ...    109  1421927418  1421927418       84   \n",
       "\n",
       "    sport  ct_flw_http_mthd  trans_depth          Dload       dur  \\\n",
       "20  21223               0.0            0       0.000000  0.000021   \n",
       "21  23357               1.0            1  815794.187500  0.240139   \n",
       "22  13284               1.0            1     749.668518  2.390390   \n",
       "39  13792               0.0            0   10228.894530  0.175190   \n",
       "40  26939               1.0            1    9401.888672  0.190600   \n",
       "\n",
       "            Sjit  \n",
       "20      0.000000  \n",
       "21   1170.481668  \n",
       "22  18786.711400  \n",
       "39    774.788316  \n",
       "40    996.632407  \n",
       "\n",
       "[5 rows x 30 columns]"
      ]
     },
     "execution_count": 70,
     "metadata": {},
     "output_type": "execute_result"
    }
   ],
   "source": [
    "df.head()"
   ]
  },
  {
   "cell_type": "code",
   "execution_count": 72,
   "metadata": {},
   "outputs": [],
   "source": [
    "df[\"fdia_category\"] = y_A"
   ]
  },
  {
   "cell_type": "code",
   "execution_count": 73,
   "metadata": {},
   "outputs": [
    {
     "data": {
      "text/html": [
       "<div>\n",
       "<style scoped>\n",
       "    .dataframe tbody tr th:only-of-type {\n",
       "        vertical-align: middle;\n",
       "    }\n",
       "\n",
       "    .dataframe tbody tr th {\n",
       "        vertical-align: top;\n",
       "    }\n",
       "\n",
       "    .dataframe thead th {\n",
       "        text-align: right;\n",
       "    }\n",
       "</style>\n",
       "<table border=\"1\" class=\"dataframe\">\n",
       "  <thead>\n",
       "    <tr style=\"text-align: right;\">\n",
       "      <th></th>\n",
       "      <th>sttl</th>\n",
       "      <th>dttl</th>\n",
       "      <th>swin</th>\n",
       "      <th>dwin</th>\n",
       "      <th>state</th>\n",
       "      <th>ct_srv_dst</th>\n",
       "      <th>ct_state_ttl</th>\n",
       "      <th>ct_src_dport_ltm</th>\n",
       "      <th>tcprtt</th>\n",
       "      <th>ct_dst_sport_ltm</th>\n",
       "      <th>...</th>\n",
       "      <th>Stime</th>\n",
       "      <th>Ltime</th>\n",
       "      <th>smeansz</th>\n",
       "      <th>sport</th>\n",
       "      <th>ct_flw_http_mthd</th>\n",
       "      <th>trans_depth</th>\n",
       "      <th>Dload</th>\n",
       "      <th>dur</th>\n",
       "      <th>Sjit</th>\n",
       "      <th>fdia_category</th>\n",
       "    </tr>\n",
       "  </thead>\n",
       "  <tbody>\n",
       "    <tr>\n",
       "      <th>20</th>\n",
       "      <td>254</td>\n",
       "      <td>0</td>\n",
       "      <td>0</td>\n",
       "      <td>0</td>\n",
       "      <td>4</td>\n",
       "      <td>1</td>\n",
       "      <td>2</td>\n",
       "      <td>1</td>\n",
       "      <td>0.000000</td>\n",
       "      <td>1</td>\n",
       "      <td>...</td>\n",
       "      <td>1421927415</td>\n",
       "      <td>1421927415</td>\n",
       "      <td>364</td>\n",
       "      <td>21223</td>\n",
       "      <td>0.0</td>\n",
       "      <td>0</td>\n",
       "      <td>0.000000</td>\n",
       "      <td>0.000021</td>\n",
       "      <td>0.000000</td>\n",
       "      <td>3</td>\n",
       "    </tr>\n",
       "    <tr>\n",
       "      <th>21</th>\n",
       "      <td>62</td>\n",
       "      <td>252</td>\n",
       "      <td>255</td>\n",
       "      <td>255</td>\n",
       "      <td>3</td>\n",
       "      <td>2</td>\n",
       "      <td>1</td>\n",
       "      <td>1</td>\n",
       "      <td>0.051475</td>\n",
       "      <td>1</td>\n",
       "      <td>...</td>\n",
       "      <td>1421927416</td>\n",
       "      <td>1421927416</td>\n",
       "      <td>77</td>\n",
       "      <td>23357</td>\n",
       "      <td>1.0</td>\n",
       "      <td>1</td>\n",
       "      <td>815794.187500</td>\n",
       "      <td>0.240139</td>\n",
       "      <td>1170.481668</td>\n",
       "      <td>3</td>\n",
       "    </tr>\n",
       "    <tr>\n",
       "      <th>22</th>\n",
       "      <td>254</td>\n",
       "      <td>252</td>\n",
       "      <td>255</td>\n",
       "      <td>255</td>\n",
       "      <td>3</td>\n",
       "      <td>2</td>\n",
       "      <td>1</td>\n",
       "      <td>1</td>\n",
       "      <td>0.066088</td>\n",
       "      <td>1</td>\n",
       "      <td>...</td>\n",
       "      <td>1421927414</td>\n",
       "      <td>1421927416</td>\n",
       "      <td>97</td>\n",
       "      <td>13284</td>\n",
       "      <td>1.0</td>\n",
       "      <td>1</td>\n",
       "      <td>749.668518</td>\n",
       "      <td>2.390390</td>\n",
       "      <td>18786.711400</td>\n",
       "      <td>6</td>\n",
       "    </tr>\n",
       "    <tr>\n",
       "      <th>39</th>\n",
       "      <td>254</td>\n",
       "      <td>252</td>\n",
       "      <td>255</td>\n",
       "      <td>255</td>\n",
       "      <td>3</td>\n",
       "      <td>1</td>\n",
       "      <td>1</td>\n",
       "      <td>1</td>\n",
       "      <td>0.054878</td>\n",
       "      <td>1</td>\n",
       "      <td>...</td>\n",
       "      <td>1421927417</td>\n",
       "      <td>1421927417</td>\n",
       "      <td>583</td>\n",
       "      <td>13792</td>\n",
       "      <td>0.0</td>\n",
       "      <td>0</td>\n",
       "      <td>10228.894530</td>\n",
       "      <td>0.175190</td>\n",
       "      <td>774.788316</td>\n",
       "      <td>3</td>\n",
       "    </tr>\n",
       "    <tr>\n",
       "      <th>40</th>\n",
       "      <td>254</td>\n",
       "      <td>252</td>\n",
       "      <td>255</td>\n",
       "      <td>255</td>\n",
       "      <td>3</td>\n",
       "      <td>1</td>\n",
       "      <td>1</td>\n",
       "      <td>1</td>\n",
       "      <td>0.050675</td>\n",
       "      <td>1</td>\n",
       "      <td>...</td>\n",
       "      <td>1421927418</td>\n",
       "      <td>1421927418</td>\n",
       "      <td>84</td>\n",
       "      <td>26939</td>\n",
       "      <td>1.0</td>\n",
       "      <td>1</td>\n",
       "      <td>9401.888672</td>\n",
       "      <td>0.190600</td>\n",
       "      <td>996.632407</td>\n",
       "      <td>3</td>\n",
       "    </tr>\n",
       "  </tbody>\n",
       "</table>\n",
       "<p>5 rows × 31 columns</p>\n",
       "</div>"
      ],
      "text/plain": [
       "    sttl  dttl  swin  dwin  state  ct_srv_dst  ct_state_ttl  ct_src_dport_ltm  \\\n",
       "20   254     0     0     0      4           1             2                 1   \n",
       "21    62   252   255   255      3           2             1                 1   \n",
       "22   254   252   255   255      3           2             1                 1   \n",
       "39   254   252   255   255      3           1             1                 1   \n",
       "40   254   252   255   255      3           1             1                 1   \n",
       "\n",
       "      tcprtt  ct_dst_sport_ltm  ...       Stime       Ltime  smeansz  sport  \\\n",
       "20  0.000000                 1  ...  1421927415  1421927415      364  21223   \n",
       "21  0.051475                 1  ...  1421927416  1421927416       77  23357   \n",
       "22  0.066088                 1  ...  1421927414  1421927416       97  13284   \n",
       "39  0.054878                 1  ...  1421927417  1421927417      583  13792   \n",
       "40  0.050675                 1  ...  1421927418  1421927418       84  26939   \n",
       "\n",
       "    ct_flw_http_mthd  trans_depth          Dload       dur          Sjit  \\\n",
       "20               0.0            0       0.000000  0.000021      0.000000   \n",
       "21               1.0            1  815794.187500  0.240139   1170.481668   \n",
       "22               1.0            1     749.668518  2.390390  18786.711400   \n",
       "39               0.0            0   10228.894530  0.175190    774.788316   \n",
       "40               1.0            1    9401.888672  0.190600    996.632407   \n",
       "\n",
       "    fdia_category  \n",
       "20              3  \n",
       "21              3  \n",
       "22              6  \n",
       "39              3  \n",
       "40              3  \n",
       "\n",
       "[5 rows x 31 columns]"
      ]
     },
     "execution_count": 73,
     "metadata": {},
     "output_type": "execute_result"
    }
   ],
   "source": [
    "df.head()"
   ]
  },
  {
   "cell_type": "code",
   "execution_count": null,
   "metadata": {},
   "outputs": [],
   "source": []
  },
  {
   "cell_type": "code",
   "execution_count": 74,
   "metadata": {},
   "outputs": [],
   "source": [
    "data_1 = df[df['fdia_category'] == 0]\n",
    "data_2 = df[df['fdia_category'] == 1]\n",
    "data_3 = df[df['fdia_category'] == 2]\n",
    "data_4 = df[df['fdia_category'] == 4]\n",
    "data_5 = df[df['fdia_category'] == 5]\n",
    "data_6 = df[df['fdia_category'] == 6]\n",
    "data_7 = df[df['fdia_category'] == 7]\n",
    "data_8 = df[df['fdia_category'] == 8]"
   ]
  },
  {
   "cell_type": "code",
   "execution_count": 75,
   "metadata": {},
   "outputs": [],
   "source": [
    "y_1 = np.zeros(data_1.shape[0])\n",
    "y_df1 = pd.DataFrame(y_1)"
   ]
  },
  {
   "cell_type": "code",
   "execution_count": 76,
   "metadata": {},
   "outputs": [],
   "source": [
    "y_2 = np.ones(data_2.shape[0])\n",
    "y_df2 = pd.DataFrame(y_2)"
   ]
  },
  {
   "cell_type": "code",
   "execution_count": 77,
   "metadata": {},
   "outputs": [],
   "source": [
    "y_3 = np.full(data_3.shape[0], 2)\n",
    "y_df3 = pd.DataFrame(y_3)"
   ]
  },
  {
   "cell_type": "code",
   "execution_count": 78,
   "metadata": {},
   "outputs": [],
   "source": [
    "y_4 = np.full(data_4.shape[0], 3)\n",
    "y_df4 = pd.DataFrame(y_4)"
   ]
  },
  {
   "cell_type": "code",
   "execution_count": 79,
   "metadata": {},
   "outputs": [],
   "source": [
    "y_5 = np.full(data_5.shape[0], 4)\n",
    "y_df5 = pd.DataFrame(y_5)"
   ]
  },
  {
   "cell_type": "code",
   "execution_count": 80,
   "metadata": {},
   "outputs": [],
   "source": [
    "y_6 = np.full(data_6.shape[0], 5)\n",
    "y_df6 = pd.DataFrame(y_6)"
   ]
  },
  {
   "cell_type": "code",
   "execution_count": 81,
   "metadata": {},
   "outputs": [],
   "source": [
    "y_7 = np.full(data_7.shape[0], 6)\n",
    "y_df7 = pd.DataFrame(y_7)"
   ]
  },
  {
   "cell_type": "code",
   "execution_count": 82,
   "metadata": {},
   "outputs": [],
   "source": [
    "y_8 = np.full(data_8.shape[0], 7)\n",
    "y_df8 = pd.DataFrame(y_8)"
   ]
  },
  {
   "cell_type": "code",
   "execution_count": null,
   "metadata": {},
   "outputs": [],
   "source": []
  },
  {
   "cell_type": "code",
   "execution_count": 83,
   "metadata": {},
   "outputs": [],
   "source": [
    "X = pd.concat([data_1, data_2, data_3,data_4, data_5, data_6,data_7, data_8], sort=True)\n",
    "y = pd.concat([y_df1, y_df2, y_df3,y_df4, y_df5, y_df6,y_df7, y_df8], sort=True)"
   ]
  },
  {
   "cell_type": "code",
   "execution_count": 84,
   "metadata": {},
   "outputs": [
    {
     "name": "stdout",
     "output_type": "stream",
     "text": [
      "(16806, 31)\n",
      "(16806, 1)\n"
     ]
    }
   ],
   "source": [
    "print(X.shape)\n",
    "print(y.shape)"
   ]
  },
  {
   "cell_type": "code",
   "execution_count": 85,
   "metadata": {},
   "outputs": [
    {
     "data": {
      "text/plain": [
       "array([0, 0, 0, 0, 0, 0, 0, 0, 0, 0, 0, 0, 0, 0, 0, 0, 0, 0, 0, 0, 0, 0,\n",
       "       0, 0, 0, 0, 0, 0, 0, 0, 0], dtype=int64)"
      ]
     },
     "execution_count": 85,
     "metadata": {},
     "output_type": "execute_result"
    }
   ],
   "source": [
    "X.isnull().sum().to_numpy()"
   ]
  },
  {
   "cell_type": "code",
   "execution_count": 86,
   "metadata": {},
   "outputs": [
    {
     "data": {
      "text/html": [
       "<div>\n",
       "<style scoped>\n",
       "    .dataframe tbody tr th:only-of-type {\n",
       "        vertical-align: middle;\n",
       "    }\n",
       "\n",
       "    .dataframe tbody tr th {\n",
       "        vertical-align: top;\n",
       "    }\n",
       "\n",
       "    .dataframe thead th {\n",
       "        text-align: right;\n",
       "    }\n",
       "</style>\n",
       "<table border=\"1\" class=\"dataframe\">\n",
       "  <thead>\n",
       "    <tr style=\"text-align: right;\">\n",
       "      <th></th>\n",
       "      <th>0</th>\n",
       "    </tr>\n",
       "  </thead>\n",
       "  <tbody>\n",
       "    <tr>\n",
       "      <th>0</th>\n",
       "      <td>sport</td>\n",
       "    </tr>\n",
       "    <tr>\n",
       "      <th>1</th>\n",
       "      <td>dsport</td>\n",
       "    </tr>\n",
       "    <tr>\n",
       "      <th>2</th>\n",
       "      <td>proto</td>\n",
       "    </tr>\n",
       "    <tr>\n",
       "      <th>3</th>\n",
       "      <td>state</td>\n",
       "    </tr>\n",
       "    <tr>\n",
       "      <th>4</th>\n",
       "      <td>dur</td>\n",
       "    </tr>\n",
       "    <tr>\n",
       "      <th>5</th>\n",
       "      <td>sbytes</td>\n",
       "    </tr>\n",
       "    <tr>\n",
       "      <th>6</th>\n",
       "      <td>dbytes</td>\n",
       "    </tr>\n",
       "    <tr>\n",
       "      <th>7</th>\n",
       "      <td>sttl</td>\n",
       "    </tr>\n",
       "    <tr>\n",
       "      <th>8</th>\n",
       "      <td>dttl</td>\n",
       "    </tr>\n",
       "    <tr>\n",
       "      <th>9</th>\n",
       "      <td>sloss</td>\n",
       "    </tr>\n",
       "    <tr>\n",
       "      <th>10</th>\n",
       "      <td>dloss</td>\n",
       "    </tr>\n",
       "    <tr>\n",
       "      <th>11</th>\n",
       "      <td>Sload</td>\n",
       "    </tr>\n",
       "    <tr>\n",
       "      <th>12</th>\n",
       "      <td>Dload</td>\n",
       "    </tr>\n",
       "    <tr>\n",
       "      <th>13</th>\n",
       "      <td>Spkts</td>\n",
       "    </tr>\n",
       "    <tr>\n",
       "      <th>14</th>\n",
       "      <td>Dpkts</td>\n",
       "    </tr>\n",
       "    <tr>\n",
       "      <th>15</th>\n",
       "      <td>swin</td>\n",
       "    </tr>\n",
       "    <tr>\n",
       "      <th>16</th>\n",
       "      <td>dwin</td>\n",
       "    </tr>\n",
       "    <tr>\n",
       "      <th>17</th>\n",
       "      <td>stcpb</td>\n",
       "    </tr>\n",
       "    <tr>\n",
       "      <th>18</th>\n",
       "      <td>dtcpb</td>\n",
       "    </tr>\n",
       "    <tr>\n",
       "      <th>19</th>\n",
       "      <td>smeansz</td>\n",
       "    </tr>\n",
       "    <tr>\n",
       "      <th>20</th>\n",
       "      <td>dmeansz</td>\n",
       "    </tr>\n",
       "    <tr>\n",
       "      <th>21</th>\n",
       "      <td>trans_depth</td>\n",
       "    </tr>\n",
       "    <tr>\n",
       "      <th>22</th>\n",
       "      <td>res_bdy_len</td>\n",
       "    </tr>\n",
       "    <tr>\n",
       "      <th>23</th>\n",
       "      <td>Sjit</td>\n",
       "    </tr>\n",
       "    <tr>\n",
       "      <th>24</th>\n",
       "      <td>Djit</td>\n",
       "    </tr>\n",
       "    <tr>\n",
       "      <th>25</th>\n",
       "      <td>Stime</td>\n",
       "    </tr>\n",
       "    <tr>\n",
       "      <th>26</th>\n",
       "      <td>Ltime</td>\n",
       "    </tr>\n",
       "    <tr>\n",
       "      <th>27</th>\n",
       "      <td>Sintpkt</td>\n",
       "    </tr>\n",
       "    <tr>\n",
       "      <th>28</th>\n",
       "      <td>Dintpkt</td>\n",
       "    </tr>\n",
       "    <tr>\n",
       "      <th>29</th>\n",
       "      <td>tcprtt</td>\n",
       "    </tr>\n",
       "    <tr>\n",
       "      <th>30</th>\n",
       "      <td>synack</td>\n",
       "    </tr>\n",
       "    <tr>\n",
       "      <th>31</th>\n",
       "      <td>ackdat</td>\n",
       "    </tr>\n",
       "    <tr>\n",
       "      <th>32</th>\n",
       "      <td>is_sm_ips_ports</td>\n",
       "    </tr>\n",
       "    <tr>\n",
       "      <th>33</th>\n",
       "      <td>ct_state_ttl</td>\n",
       "    </tr>\n",
       "    <tr>\n",
       "      <th>34</th>\n",
       "      <td>ct_flw_http_mthd</td>\n",
       "    </tr>\n",
       "    <tr>\n",
       "      <th>35</th>\n",
       "      <td>is_ftp_login</td>\n",
       "    </tr>\n",
       "    <tr>\n",
       "      <th>36</th>\n",
       "      <td>ct_ftp_cmd</td>\n",
       "    </tr>\n",
       "    <tr>\n",
       "      <th>37</th>\n",
       "      <td>ct_srv_src</td>\n",
       "    </tr>\n",
       "    <tr>\n",
       "      <th>38</th>\n",
       "      <td>ct_srv_dst</td>\n",
       "    </tr>\n",
       "    <tr>\n",
       "      <th>39</th>\n",
       "      <td>ct_dst_ltm</td>\n",
       "    </tr>\n",
       "    <tr>\n",
       "      <th>40</th>\n",
       "      <td>ct_src_ ltm</td>\n",
       "    </tr>\n",
       "    <tr>\n",
       "      <th>41</th>\n",
       "      <td>ct_src_dport_ltm</td>\n",
       "    </tr>\n",
       "    <tr>\n",
       "      <th>42</th>\n",
       "      <td>ct_dst_sport_ltm</td>\n",
       "    </tr>\n",
       "    <tr>\n",
       "      <th>43</th>\n",
       "      <td>ct_dst_src_ltm</td>\n",
       "    </tr>\n",
       "  </tbody>\n",
       "</table>\n",
       "</div>"
      ],
      "text/plain": [
       "                   0\n",
       "0              sport\n",
       "1             dsport\n",
       "2              proto\n",
       "3              state\n",
       "4                dur\n",
       "5             sbytes\n",
       "6             dbytes\n",
       "7               sttl\n",
       "8               dttl\n",
       "9              sloss\n",
       "10             dloss\n",
       "11             Sload\n",
       "12             Dload\n",
       "13             Spkts\n",
       "14             Dpkts\n",
       "15              swin\n",
       "16              dwin\n",
       "17             stcpb\n",
       "18             dtcpb\n",
       "19           smeansz\n",
       "20           dmeansz\n",
       "21       trans_depth\n",
       "22       res_bdy_len\n",
       "23              Sjit\n",
       "24              Djit\n",
       "25             Stime\n",
       "26             Ltime\n",
       "27           Sintpkt\n",
       "28           Dintpkt\n",
       "29            tcprtt\n",
       "30            synack\n",
       "31            ackdat\n",
       "32   is_sm_ips_ports\n",
       "33      ct_state_ttl\n",
       "34  ct_flw_http_mthd\n",
       "35      is_ftp_login\n",
       "36        ct_ftp_cmd\n",
       "37        ct_srv_src\n",
       "38        ct_srv_dst\n",
       "39        ct_dst_ltm\n",
       "40       ct_src_ ltm\n",
       "41  ct_src_dport_ltm\n",
       "42  ct_dst_sport_ltm\n",
       "43    ct_dst_src_ltm"
      ]
     },
     "execution_count": 86,
     "metadata": {},
     "output_type": "execute_result"
    }
   ],
   "source": [
    "dfcolumns"
   ]
  },
  {
   "cell_type": "code",
   "execution_count": null,
   "metadata": {},
   "outputs": [],
   "source": []
  },
  {
   "cell_type": "code",
   "execution_count": 88,
   "metadata": {},
   "outputs": [],
   "source": [
    "data_1_resample = resample(data_1, n_samples=20000, \n",
    "                           random_state=123, replace=True)\n",
    "data_2_resample = resample(data_2, n_samples=20000, \n",
    "                           random_state=123, replace=True)\n",
    "data_3_resample = resample(data_3, n_samples=20000, \n",
    "                           random_state=123, replace=True)\n",
    "data_4_resample = resample(data_4, n_samples=20000, \n",
    "                           random_state=123, replace=True)\n",
    "data_5_resample = resample(data_5, n_samples=20000, \n",
    "                           random_state=123, replace=True)\n",
    "data_6_resample = resample(data_6, n_samples=20000, \n",
    "                           random_state=123, replace=True)\n",
    "data_7_resample = resample(data_7, n_samples=20000, \n",
    "                           random_state=123, replace=True)\n",
    "data_8_resample = resample(data_8, n_samples=20000, \n",
    "                           random_state=123, replace=True)\n"
   ]
  },
  {
   "cell_type": "code",
   "execution_count": 89,
   "metadata": {},
   "outputs": [
    {
     "data": {
      "text/html": [
       "<div>\n",
       "<style scoped>\n",
       "    .dataframe tbody tr th:only-of-type {\n",
       "        vertical-align: middle;\n",
       "    }\n",
       "\n",
       "    .dataframe tbody tr th {\n",
       "        vertical-align: top;\n",
       "    }\n",
       "\n",
       "    .dataframe thead th {\n",
       "        text-align: right;\n",
       "    }\n",
       "</style>\n",
       "<table border=\"1\" class=\"dataframe\">\n",
       "  <thead>\n",
       "    <tr style=\"text-align: right;\">\n",
       "      <th></th>\n",
       "      <th>sttl</th>\n",
       "      <th>dttl</th>\n",
       "      <th>swin</th>\n",
       "      <th>dwin</th>\n",
       "      <th>state</th>\n",
       "      <th>ct_srv_dst</th>\n",
       "      <th>ct_state_ttl</th>\n",
       "      <th>ct_src_dport_ltm</th>\n",
       "      <th>tcprtt</th>\n",
       "      <th>ct_dst_sport_ltm</th>\n",
       "      <th>...</th>\n",
       "      <th>Stime</th>\n",
       "      <th>Ltime</th>\n",
       "      <th>smeansz</th>\n",
       "      <th>sport</th>\n",
       "      <th>ct_flw_http_mthd</th>\n",
       "      <th>trans_depth</th>\n",
       "      <th>Dload</th>\n",
       "      <th>dur</th>\n",
       "      <th>Sjit</th>\n",
       "      <th>fdia_category</th>\n",
       "    </tr>\n",
       "  </thead>\n",
       "  <tbody>\n",
       "    <tr>\n",
       "      <th>146657</th>\n",
       "      <td>62</td>\n",
       "      <td>252</td>\n",
       "      <td>255</td>\n",
       "      <td>255</td>\n",
       "      <td>3</td>\n",
       "      <td>5</td>\n",
       "      <td>1</td>\n",
       "      <td>1</td>\n",
       "      <td>0.145472</td>\n",
       "      <td>1</td>\n",
       "      <td>...</td>\n",
       "      <td>1421932854</td>\n",
       "      <td>1421932854</td>\n",
       "      <td>82</td>\n",
       "      <td>56570</td>\n",
       "      <td>0.0</td>\n",
       "      <td>0</td>\n",
       "      <td>18258.04688</td>\n",
       "      <td>0.416693</td>\n",
       "      <td>2363.189831</td>\n",
       "      <td>0</td>\n",
       "    </tr>\n",
       "    <tr>\n",
       "      <th>86653</th>\n",
       "      <td>254</td>\n",
       "      <td>0</td>\n",
       "      <td>0</td>\n",
       "      <td>0</td>\n",
       "      <td>4</td>\n",
       "      <td>7</td>\n",
       "      <td>2</td>\n",
       "      <td>2</td>\n",
       "      <td>0.000000</td>\n",
       "      <td>2</td>\n",
       "      <td>...</td>\n",
       "      <td>1421930757</td>\n",
       "      <td>1421930757</td>\n",
       "      <td>100</td>\n",
       "      <td>0</td>\n",
       "      <td>0.0</td>\n",
       "      <td>0</td>\n",
       "      <td>0.00000</td>\n",
       "      <td>0.000011</td>\n",
       "      <td>0.000000</td>\n",
       "      <td>0</td>\n",
       "    </tr>\n",
       "  </tbody>\n",
       "</table>\n",
       "<p>2 rows × 31 columns</p>\n",
       "</div>"
      ],
      "text/plain": [
       "        sttl  dttl  swin  dwin  state  ct_srv_dst  ct_state_ttl  \\\n",
       "146657    62   252   255   255      3           5             1   \n",
       "86653    254     0     0     0      4           7             2   \n",
       "\n",
       "        ct_src_dport_ltm    tcprtt  ct_dst_sport_ltm  ...       Stime  \\\n",
       "146657                 1  0.145472                 1  ...  1421932854   \n",
       "86653                  2  0.000000                 2  ...  1421930757   \n",
       "\n",
       "             Ltime  smeansz  sport  ct_flw_http_mthd  trans_depth  \\\n",
       "146657  1421932854       82  56570               0.0            0   \n",
       "86653   1421930757      100      0               0.0            0   \n",
       "\n",
       "              Dload       dur         Sjit  fdia_category  \n",
       "146657  18258.04688  0.416693  2363.189831              0  \n",
       "86653       0.00000  0.000011     0.000000              0  \n",
       "\n",
       "[2 rows x 31 columns]"
      ]
     },
     "execution_count": 89,
     "metadata": {},
     "output_type": "execute_result"
    }
   ],
   "source": [
    "train_dataset = pd.concat([data_1_resample, data_2_resample, data_3_resample, data_4_resample, data_5_resample, data_6_resample, data_7_resample, data_8_resample])\n",
    "train_dataset.head(2)"
   ]
  },
  {
   "cell_type": "code",
   "execution_count": 90,
   "metadata": {},
   "outputs": [
    {
     "data": {
      "text/plain": [
       "<matplotlib.patches.Circle at 0x214080da940>"
      ]
     },
     "execution_count": 90,
     "metadata": {},
     "output_type": "execute_result"
    },
    {
     "data": {
      "image/png": "[encoded data removed]",
      "text/plain": [
       "<Figure size 720x576 with 1 Axes>"
      ]
     },
     "metadata": {},
     "output_type": "display_data"
    }
   ],
   "source": [
    "plt.figure(figsize=(10, 8))\n",
    "circle = plt.Circle((0, 0), 0.7, color='white')\n",
    "plt.title('False Data Injection Attack Type Distribution')\n",
    "plt.pie(train_dataset['fdia_category'].value_counts(), labels=train_dataset[\"fdia_category\"].unique())\n",
    "p = plt.gcf()\n",
    "p.gca().add_artist(circle)"
   ]
  },
  {
   "cell_type": "code",
   "execution_count": 91,
   "metadata": {},
   "outputs": [],
   "source": [
    "test_dataset = train_dataset.sample(frac=0.1)\n",
    "target_train = train_dataset['fdia_category']"
   ]
  },
  {
   "cell_type": "code",
   "execution_count": 92,
   "metadata": {},
   "outputs": [
    {
     "data": {
      "text/plain": [
       "(array([0, 1, 2, 4, 5, 6, 7, 8]), array([4, 6, 8, 1, 2, 0, 7, 5]))"
      ]
     },
     "execution_count": 92,
     "metadata": {},
     "output_type": "execute_result"
    }
   ],
   "source": [
    "target_test = test_dataset['fdia_category']\n",
    "target_train.unique(), target_test.unique()"
   ]
  },
  {
   "cell_type": "code",
   "execution_count": 94,
   "metadata": {},
   "outputs": [],
   "source": [
    "y_train = to_categorical(target_train, num_classes=9)\n",
    "y_test = to_categorical(target_test, num_classes=9)"
   ]
  },
  {
   "cell_type": "code",
   "execution_count": 95,
   "metadata": {},
   "outputs": [],
   "source": [
    "#train_dataset = train_dataset.drop(columns = [\"Timestamp\", \"proto\",\"PSH Flag Cnt\",\"Init Fwd Win Byts\",\"Flow Byts/s\",\"Flow Pkts/s\", \"attack\"], axis=1)"
   ]
  },
  {
   "cell_type": "code",
   "execution_count": 96,
   "metadata": {},
   "outputs": [],
   "source": [
    "#test_dataset = test_dataset.drop(columns = [\"Timestamp\", \"proto\",\"PSH Flag Cnt\",\"Init Fwd Win Byts\",\"Flow Byts/s\",\"Flow Pkts/s\", \"attack\"], axis=1)"
   ]
  },
  {
   "cell_type": "code",
   "execution_count": 97,
   "metadata": {},
   "outputs": [
    {
     "data": {
      "text/plain": [
       "array([[254, 0, 0, ..., 0.0, 8e-06, 0.0],\n",
       "       [254, 252, 255, ..., 3929.8332520000004, 0.455999, 2410.137893],\n",
       "       [254, 0, 0, ..., 0.0, 1.1e-05, 0.0],\n",
       "       ...,\n",
       "       [254, 0, 0, ..., 0.0, 7.000000000000001e-06, 0.0],\n",
       "       [254, 0, 0, ..., 0.0, 7.000000000000001e-06, 0.0],\n",
       "       [254, 0, 0, ..., 0.0, 1e-06, 0.0]], dtype=object)"
      ]
     },
     "execution_count": 97,
     "metadata": {},
     "output_type": "execute_result"
    }
   ],
   "source": [
    "X_train = train_dataset.iloc[:, :-1].values\n",
    "X_test = test_dataset.iloc[:, :-1].values\n",
    "X_test"
   ]
  },
  {
   "cell_type": "code",
   "execution_count": 98,
   "metadata": {},
   "outputs": [
    {
     "name": "stdout",
     "output_type": "stream",
     "text": [
      "(160000, 30)\n",
      "(16000, 30)\n",
      "(160000, 9)\n",
      "(16000, 9)\n"
     ]
    }
   ],
   "source": [
    "print(X_train.shape)\n",
    "print(X_test.shape)\n",
    "print(y_train.shape)\n",
    "print(y_test.shape)"
   ]
  },
  {
   "cell_type": "code",
   "execution_count": 99,
   "metadata": {},
   "outputs": [
    {
     "data": {
      "text/plain": [
       "((160000, 30, 1), (16000, 30, 1))"
      ]
     },
     "execution_count": 99,
     "metadata": {},
     "output_type": "execute_result"
    }
   ],
   "source": [
    "X_train = X_train.reshape(len(X_train), X_train.shape[1], 1)\n",
    "X_test = X_test.reshape(len(X_test), X_test.shape[1], 1)\n",
    "X_train.shape, X_test.shape"
   ]
  },
  {
   "cell_type": "code",
   "execution_count": 103,
   "metadata": {},
   "outputs": [],
   "source": [
    "def create_nn_model():\n",
    "    learning_rate=0.001\n",
    "    batch_size=5000\n",
    "    model = Sequential()\n",
    "    model.add(Dense(64, input_shape=(30,), activation='relu'))\n",
    "    model.add(Dense(64, activation='relu'))\n",
    "    model.add(Dense(9, activation='softmax'))\n",
    "    \n",
    "    adam = Adam(lr=learning_rate, beta_1=0.9, beta_2=0.999, epsilon=1e-08, decay=0.0)\n",
    "    model.compile(loss='categorical_crossentropy', optimizer=adam,metrics=['accuracy'])\n",
    "    \n",
    "    return model"
   ]
  },
  {
   "cell_type": "code",
   "execution_count": 104,
   "metadata": {},
   "outputs": [],
   "source": [
    "model = create_nn_model()"
   ]
  },
  {
   "cell_type": "code",
   "execution_count": 108,
   "metadata": {},
   "outputs": [],
   "source": [
    "X_train = np.asarray(X_train).astype('float32')\n",
    "X_test = np.asarray(X_test).astype('float32')"
   ]
  },
  {
   "cell_type": "code",
   "execution_count": null,
   "metadata": {},
   "outputs": [
    {
     "name": "stdout",
     "output_type": "stream",
     "text": [
      "Epoch 1/30\n",
      "5000/5000 [==============================] - 5s 1ms/step - loss: 2153510.0000 - accuracy: 0.1966 - val_loss: 1358628.0000 - val_accuracy: 0.1873\n",
      "Epoch 2/30\n",
      "5000/5000 [==============================] - 5s 990us/step - loss: 402572.0000 - accuracy: 0.1806 - val_loss: 87.1859 - val_accuracy: 0.1279\n",
      "Epoch 3/30\n",
      "5000/5000 [==============================] - 5s 987us/step - loss: 6.9493 - accuracy: 0.1247 - val_loss: 2.0807 - val_accuracy: 0.1251\n",
      "Epoch 4/30\n",
      "5000/5000 [==============================] - 5s 978us/step - loss: 2.0801 - accuracy: 0.1246 - val_loss: 2.0797 - val_accuracy: 0.1248\n",
      "Epoch 5/30\n",
      "5000/5000 [==============================] - 5s 987us/step - loss: 2.0796 - accuracy: 0.1243 - val_loss: 2.0796 - val_accuracy: 0.1244\n",
      "Epoch 6/30\n",
      "5000/5000 [==============================] - 5s 976us/step - loss: 2.0796 - accuracy: 0.1237 - val_loss: 2.0795 - val_accuracy: 0.1250\n",
      "Epoch 7/30\n",
      "5000/5000 [==============================] - 5s 979us/step - loss: 2.0796 - accuracy: 0.1246 - val_loss: 2.0796 - val_accuracy: 0.1244\n",
      "Epoch 8/30\n",
      "5000/5000 [==============================] - 5s 981us/step - loss: 2.0796 - accuracy: 0.1236 - val_loss: 2.0795 - val_accuracy: 0.1246\n",
      "Epoch 9/30\n",
      "5000/5000 [==============================] - 5s 989us/step - loss: 2.0796 - accuracy: 0.1239 - val_loss: 2.0795 - val_accuracy: 0.1277\n",
      "Epoch 10/30\n",
      "5000/5000 [==============================] - 5s 996us/step - loss: 2.0796 - accuracy: 0.1253 - val_loss: 2.0796 - val_accuracy: 0.1234\n",
      "Epoch 11/30\n",
      "5000/5000 [==============================] - 5s 994us/step - loss: 2.0796 - accuracy: 0.1250 - val_loss: 2.0795 - val_accuracy: 0.1246\n",
      "Epoch 12/30\n",
      "5000/5000 [==============================] - 5s 998us/step - loss: 2.0796 - accuracy: 0.1232 - val_loss: 2.0795 - val_accuracy: 0.1250\n",
      "Epoch 13/30\n",
      "5000/5000 [==============================] - 5s 999us/step - loss: 2.0796 - accuracy: 0.1243 - val_loss: 2.0795 - val_accuracy: 0.1277\n",
      "Epoch 14/30\n",
      "5000/5000 [==============================] - 5s 1ms/step - loss: 2.0796 - accuracy: 0.1240 - val_loss: 2.0796 - val_accuracy: 0.1246\n",
      "Epoch 15/30\n",
      "5000/5000 [==============================] - 5s 1ms/step - loss: 2.0796 - accuracy: 0.1237 - val_loss: 2.0794 - val_accuracy: 0.1277\n",
      "Epoch 16/30\n",
      "5000/5000 [==============================] - 5s 994us/step - loss: 2.0796 - accuracy: 0.1253 - val_loss: 2.0795 - val_accuracy: 0.1244\n",
      "Epoch 17/30\n",
      "5000/5000 [==============================] - 5s 998us/step - loss: 2.0796 - accuracy: 0.1237 - val_loss: 2.0795 - val_accuracy: 0.1234\n",
      "Epoch 18/30\n",
      "5000/5000 [==============================] - 5s 1ms/step - loss: 2.0796 - accuracy: 0.1244 - val_loss: 2.0795 - val_accuracy: 0.1244\n",
      "Epoch 19/30\n",
      "5000/5000 [==============================] - 5s 1000us/step - loss: 2.0796 - accuracy: 0.1235 - val_loss: 2.0795 - val_accuracy: 0.1244\n",
      "Epoch 20/30\n",
      "5000/5000 [==============================] - 5s 1ms/step - loss: 2.0796 - accuracy: 0.1254 - val_loss: 2.0796 - val_accuracy: 0.1251\n",
      "Epoch 21/30\n",
      "5000/5000 [==============================] - 5s 979us/step - loss: 2.0796 - accuracy: 0.1252 - val_loss: 2.0795 - val_accuracy: 0.1234\n",
      "Epoch 22/30\n",
      "5000/5000 [==============================] - 5s 997us/step - loss: 2.0796 - accuracy: 0.1248 - val_loss: 2.0795 - val_accuracy: 0.1249\n",
      "Epoch 23/30\n",
      "5000/5000 [==============================] - 5s 997us/step - loss: 2.0796 - accuracy: 0.1243 - val_loss: 2.0795 - val_accuracy: 0.1246\n",
      "Epoch 24/30\n",
      "5000/5000 [==============================] - 5s 1ms/step - loss: 2.0796 - accuracy: 0.1248 - val_loss: 2.0796 - val_accuracy: 0.1234\n",
      "Epoch 25/30\n",
      "5000/5000 [==============================] - 5s 1ms/step - loss: 2.0796 - accuracy: 0.1237 - val_loss: 2.0795 - val_accuracy: 0.1248\n",
      "Epoch 26/30\n",
      "5000/5000 [==============================] - 5s 994us/step - loss: 2.0796 - accuracy: 0.1254 - val_loss: 2.0795 - val_accuracy: 0.1277\n",
      "Epoch 27/30\n",
      "2000/5000 [===========>..................] - ETA: 6s - loss: 2.0796 - accuracy: 0.1255"
     ]
    }
   ],
   "source": [
    "his = model.fit(X_train, y_train, epochs=30, batch_size=32, \n",
    "          validation_data=(X_test, y_test))"
   ]
  },
  {
   "cell_type": "code",
   "execution_count": 79,
   "metadata": {},
   "outputs": [
    {
     "name": "stdout",
     "output_type": "stream",
     "text": [
      "AUC: 0.999\n"
     ]
    }
   ],
   "source": [
    "y_pred = model.predict(X_test)\n",
    "AUC = metrics.roc_auc_score(y_test,y_pred)\n",
    "print(\"AUC: {:.3f}\".format(AUC))"
   ]
  },
  {
   "cell_type": "code",
   "execution_count": 80,
   "metadata": {},
   "outputs": [
    {
     "data": {
      "text/plain": [
       "dict_keys(['loss', 'accuracy', 'val_loss', 'val_accuracy'])"
      ]
     },
     "execution_count": 80,
     "metadata": {},
     "output_type": "execute_result"
    }
   ],
   "source": [
    "history = his.history\n",
    "history.keys()"
   ]
  },
  {
   "cell_type": "code",
   "execution_count": 81,
   "metadata": {},
   "outputs": [],
   "source": [
    "epochs = range(1, len(history['loss']) + 1)\n",
    "acc = history['accuracy']\n",
    "loss = history['loss']\n",
    "val_acc = history['val_accuracy']\n",
    "val_loss = history['val_loss']"
   ]
  },
  {
   "cell_type": "code",
   "execution_count": 82,
   "metadata": {},
   "outputs": [
    {
     "data": {
      "text/plain": [
       "<matplotlib.legend.Legend at 0x1bfb86dd520>"
      ]
     },
     "execution_count": 82,
     "metadata": {},
     "output_type": "execute_result"
    },
    {
     "data": {
      "image/png": "[encoded data removed]",
      "text/plain": [
       "<Figure size 720x360 with 1 Axes>"
      ]
     },
     "metadata": {
      "needs_background": "light"
     },
     "output_type": "display_data"
    }
   ],
   "source": [
    "plt.figure(figsize=(10, 5))\n",
    "plt.title('Training and Validation Accuracy (CNN)')\n",
    "plt.xlabel('Epochs')\n",
    "plt.ylabel('Accuracy')\n",
    "plt.plot(epochs, acc, label='accuracy')\n",
    "plt.plot(epochs, val_acc, label='val_acc')\n",
    "plt.legend()"
   ]
  },
  {
   "cell_type": "code",
   "execution_count": 83,
   "metadata": {},
   "outputs": [
    {
     "data": {
      "text/plain": [
       "<matplotlib.legend.Legend at 0x1bfb8791130>"
      ]
     },
     "execution_count": 83,
     "metadata": {},
     "output_type": "execute_result"
    },
    {
     "data": {
      "image/png": "[encoded data removed]",
      "text/plain": [
       "<Figure size 720x360 with 1 Axes>"
      ]
     },
     "metadata": {
      "needs_background": "light"
     },
     "output_type": "display_data"
    }
   ],
   "source": [
    "plt.figure(figsize=(10, 5))\n",
    "plt.title('Training and Validation Loss(CNN)')\n",
    "plt.xlabel('Epochs')\n",
    "plt.ylabel('Loss')\n",
    "plt.plot(epochs, loss, label='loss', color='g')\n",
    "plt.plot(epochs, val_loss, label='val_loss', color='r')\n",
    "plt.legend()"
   ]
  },
  {
   "cell_type": "code",
   "execution_count": 84,
   "metadata": {},
   "outputs": [],
   "source": [
    "def create_lstm_model():\n",
    "    learning_rate=0.001\n",
    "    batch_size=5000\n",
    "    model = Sequential()\n",
    "    model.add(Dense(64, input_shape=(30,1), activation='relu'))\n",
    "    model.add(Dense(128, activation='relu'))\n",
    "    model.add(LSTM(64, activation='relu'))\n",
    "    model.add(Dense(9, activation='softmax'))\n",
    "    \n",
    "    adam = Adam(lr=learning_rate, beta_1=0.9, beta_2=0.999, epsilon=1e-08, decay=0.0)\n",
    "    model.compile(loss='categorical_crossentropy', optimizer=adam,metrics=['accuracy'])\n",
    "    \n",
    "    return model"
   ]
  },
  {
   "cell_type": "code",
   "execution_count": 85,
   "metadata": {},
   "outputs": [
    {
     "name": "stderr",
     "output_type": "stream",
     "text": [
      "s:\\anacondaprogramdata\\anaconda3\\lib\\site-packages\\keras\\optimizer_v2\\adam.py:105: UserWarning: The `lr` argument is deprecated, use `learning_rate` instead.\n",
      "  super(Adam, self).__init__(name, **kwargs)\n"
     ]
    }
   ],
   "source": [
    "model = create_lstm_model()"
   ]
  },
  {
   "cell_type": "code",
   "execution_count": 86,
   "metadata": {},
   "outputs": [
    {
     "name": "stdout",
     "output_type": "stream",
     "text": [
      "Epoch 1/30\n",
      "1875/1875 [==============================] - 13s 7ms/step - loss: 15476.4492 - accuracy: 0.4379 - val_loss: 2283.0786 - val_accuracy: 0.4033\n",
      "Epoch 2/30\n",
      "1875/1875 [==============================] - 13s 7ms/step - loss: 2443.1282 - accuracy: 0.4665 - val_loss: 627.2682 - val_accuracy: 0.6128\n",
      "Epoch 3/30\n",
      "1875/1875 [==============================] - 12s 7ms/step - loss: 2482.8240 - accuracy: 0.4965 - val_loss: 458.3632 - val_accuracy: 0.4388\n",
      "Epoch 4/30\n",
      "1875/1875 [==============================] - 12s 7ms/step - loss: 1342.8540 - accuracy: 0.5594 - val_loss: 158.1687 - val_accuracy: 0.6665\n",
      "Epoch 5/30\n",
      "1875/1875 [==============================] - 12s 7ms/step - loss: 732.5483 - accuracy: 0.5418 - val_loss: 571.7314 - val_accuracy: 0.5033\n",
      "Epoch 6/30\n",
      "1875/1875 [==============================] - 12s 7ms/step - loss: 403.6353 - accuracy: 0.6123 - val_loss: 67.9407 - val_accuracy: 0.5975\n",
      "Epoch 7/30\n",
      "1875/1875 [==============================] - 13s 7ms/step - loss: 1089.3835 - accuracy: 0.5634 - val_loss: 174.7884 - val_accuracy: 0.5390\n",
      "Epoch 8/30\n",
      "1875/1875 [==============================] - 12s 7ms/step - loss: 2347.6318 - accuracy: 0.5137 - val_loss: 124.1877 - val_accuracy: 0.7070\n",
      "Epoch 9/30\n",
      "1875/1875 [==============================] - 12s 7ms/step - loss: 1521.5619 - accuracy: 0.5742 - val_loss: 2423.6763 - val_accuracy: 0.6850\n",
      "Epoch 10/30\n",
      "1875/1875 [==============================] - 12s 7ms/step - loss: 6903.8618 - accuracy: 0.5907 - val_loss: 3317.3423 - val_accuracy: 0.6170\n",
      "Epoch 11/30\n",
      "1875/1875 [==============================] - 12s 7ms/step - loss: 4689.3486 - accuracy: 0.5235 - val_loss: 597.3784 - val_accuracy: 0.6363\n",
      "Epoch 12/30\n",
      "1875/1875 [==============================] - 12s 7ms/step - loss: 1416.8777 - accuracy: 0.6048 - val_loss: 3319.7427 - val_accuracy: 0.6862\n",
      "Epoch 13/30\n",
      "1875/1875 [==============================] - 13s 7ms/step - loss: 2363.2942 - accuracy: 0.6461 - val_loss: 467197.7812 - val_accuracy: 0.5900\n",
      "Epoch 14/30\n",
      "1875/1875 [==============================] - 12s 7ms/step - loss: 5317.3687 - accuracy: 0.5882 - val_loss: 398.8980 - val_accuracy: 0.8200\n",
      "Epoch 15/30\n",
      "1875/1875 [==============================] - 12s 7ms/step - loss: 627.1807 - accuracy: 0.7445 - val_loss: 25.9755 - val_accuracy: 0.7755\n",
      "Epoch 16/30\n",
      "1875/1875 [==============================] - 12s 7ms/step - loss: 583.6851 - accuracy: 0.7441 - val_loss: 1269.0590 - val_accuracy: 0.7235\n",
      "Epoch 17/30\n",
      "1875/1875 [==============================] - 12s 7ms/step - loss: 3846.3496 - accuracy: 0.7034 - val_loss: 15826.6455 - val_accuracy: 0.6435\n",
      "Epoch 18/30\n",
      "1875/1875 [==============================] - 13s 7ms/step - loss: 780.3813 - accuracy: 0.7305 - val_loss: 98.8556 - val_accuracy: 0.7558\n",
      "Epoch 19/30\n",
      "1875/1875 [==============================] - 12s 7ms/step - loss: 397.7619 - accuracy: 0.8009 - val_loss: 188.7266 - val_accuracy: 0.7232\n",
      "Epoch 20/30\n",
      "1875/1875 [==============================] - 12s 7ms/step - loss: 1690.9454 - accuracy: 0.7147 - val_loss: 1077.8623 - val_accuracy: 0.6623\n",
      "Epoch 21/30\n",
      "1875/1875 [==============================] - 12s 7ms/step - loss: 994.1938 - accuracy: 0.7175 - val_loss: 1375.3997 - val_accuracy: 0.7072\n",
      "Epoch 22/30\n",
      "1875/1875 [==============================] - 12s 7ms/step - loss: 300.8433 - accuracy: 0.7779 - val_loss: 14.4639 - val_accuracy: 0.8527\n",
      "Epoch 23/30\n",
      "1875/1875 [==============================] - 13s 7ms/step - loss: 108.4064 - accuracy: 0.8334 - val_loss: 138.2753 - val_accuracy: 0.8038\n",
      "Epoch 24/30\n",
      "1875/1875 [==============================] - 12s 7ms/step - loss: 587.8371 - accuracy: 0.7875 - val_loss: 28.4239 - val_accuracy: 0.7677\n",
      "Epoch 25/30\n",
      "1875/1875 [==============================] - 12s 7ms/step - loss: 5.8859 - accuracy: 0.9308 - val_loss: 8.3279 - val_accuracy: 0.8207\n",
      "Epoch 26/30\n",
      "1875/1875 [==============================] - 12s 7ms/step - loss: 3.5880 - accuracy: 0.9415 - val_loss: 2.7029 - val_accuracy: 0.9755\n",
      "Epoch 27/30\n",
      "1875/1875 [==============================] - 12s 7ms/step - loss: 1376.7864 - accuracy: 0.8319 - val_loss: 1.3983 - val_accuracy: 0.9375\n",
      "Epoch 28/30\n",
      "1875/1875 [==============================] - 13s 7ms/step - loss: 1200.9918 - accuracy: 0.6512 - val_loss: 329.0585 - val_accuracy: 0.5987\n",
      "Epoch 29/30\n",
      "1875/1875 [==============================] - 12s 7ms/step - loss: 537.5588 - accuracy: 0.6010 - val_loss: 106.5065 - val_accuracy: 0.5798\n",
      "Epoch 30/30\n",
      "1875/1875 [==============================] - 12s 7ms/step - loss: 3362.3823 - accuracy: 0.5182 - val_loss: 3556.7534 - val_accuracy: 0.5177\n"
     ]
    }
   ],
   "source": [
    "his = model.fit(X_train, y_train, epochs=30, batch_size=32, \n",
    "          validation_data=(X_test, y_test))"
   ]
  },
  {
   "cell_type": "code",
   "execution_count": 87,
   "metadata": {},
   "outputs": [
    {
     "name": "stdout",
     "output_type": "stream",
     "text": [
      "AUC: 0.654\n"
     ]
    }
   ],
   "source": [
    "y_pred = model.predict(X_test)\n",
    "AUC = metrics.roc_auc_score(y_test,y_pred)\n",
    "print(\"AUC: {:.3f}\".format(AUC))"
   ]
  },
  {
   "cell_type": "code",
   "execution_count": 88,
   "metadata": {},
   "outputs": [
    {
     "data": {
      "text/plain": [
       "dict_keys(['loss', 'accuracy', 'val_loss', 'val_accuracy'])"
      ]
     },
     "execution_count": 88,
     "metadata": {},
     "output_type": "execute_result"
    }
   ],
   "source": [
    "history = his.history\n",
    "history.keys()"
   ]
  },
  {
   "cell_type": "code",
   "execution_count": 89,
   "metadata": {},
   "outputs": [],
   "source": [
    "epochs = range(1, len(history['loss']) + 1)\n",
    "acc = history['accuracy']\n",
    "loss = history['loss']\n",
    "val_acc = history['val_accuracy']\n",
    "val_loss = history['val_loss']"
   ]
  },
  {
   "cell_type": "code",
   "execution_count": 90,
   "metadata": {},
   "outputs": [
    {
     "data": {
      "text/plain": [
       "<matplotlib.legend.Legend at 0x1bfba0532b0>"
      ]
     },
     "execution_count": 90,
     "metadata": {},
     "output_type": "execute_result"
    },
    {
     "data": {
      "image/png": "[encoded data removed]",
      "text/plain": [
       "<Figure size 720x360 with 1 Axes>"
      ]
     },
     "metadata": {
      "needs_background": "light"
     },
     "output_type": "display_data"
    }
   ],
   "source": [
    "plt.figure(figsize=(10, 5))\n",
    "plt.title('Training and Validation Accuracy (CNN)')\n",
    "plt.xlabel('Epochs')\n",
    "plt.ylabel('Accuracy')\n",
    "plt.plot(epochs, acc, label='accuracy')\n",
    "plt.plot(epochs, val_acc, label='val_acc')\n",
    "plt.legend()"
   ]
  },
  {
   "cell_type": "code",
   "execution_count": 91,
   "metadata": {},
   "outputs": [
    {
     "data": {
      "text/plain": [
       "<matplotlib.legend.Legend at 0x1bfba1aa850>"
      ]
     },
     "execution_count": 91,
     "metadata": {},
     "output_type": "execute_result"
    },
    {
     "data": {
      "image/png": "[encoded data removed]",
      "text/plain": [
       "<Figure size 720x360 with 1 Axes>"
      ]
     },
     "metadata": {
      "needs_background": "light"
     },
     "output_type": "display_data"
    }
   ],
   "source": [
    "plt.figure(figsize=(10, 5))\n",
    "plt.title('Training and Validation Loss(CNN)')\n",
    "plt.xlabel('Epochs')\n",
    "plt.ylabel('Loss')\n",
    "plt.plot(epochs, loss, label='loss', color='g')\n",
    "plt.plot(epochs, val_loss, label='val_loss', color='r')\n",
    "plt.legend()"
   ]
  },
  {
   "cell_type": "code",
   "execution_count": null,
   "metadata": {},
   "outputs": [],
   "source": []
  },
  {
   "cell_type": "code",
   "execution_count": 92,
   "metadata": {},
   "outputs": [],
   "source": [
    "def create_cnn_model():\n",
    "    model = Sequential()\n",
    "    model.add(Conv1D(filters=64, kernel_size=6, activation='relu', \n",
    "                    padding='same', input_shape=(30, 1)))\n",
    "    model.add(BatchNormalization())\n",
    "    model.add(MaxPooling1D(pool_size=(3), strides=2, padding='same'))\n",
    "    \n",
    "    model.add(Conv1D(filters=64, kernel_size=6, activation='relu', \n",
    "                    padding='same', input_shape=(72, 1)))\n",
    "    model.add(BatchNormalization())\n",
    "    model.add(MaxPooling1D(pool_size=(3), strides=2, padding='same'))\n",
    "    \n",
    "    model.add(Conv1D(filters=64, kernel_size=6, activation='relu', \n",
    "                    padding='same', input_shape=(72, 1)))\n",
    "    model.add(BatchNormalization())\n",
    "    model.add(MaxPooling1D(pool_size=(3), strides=2, padding='same'))\n",
    "    \n",
    "    model.add(Flatten())\n",
    "    model.add(Dense(64, activation='relu'))\n",
    "    model.add(Dense(64, activation='relu'))\n",
    "    model.add(Dense(9, activation='softmax'))\n",
    "    \n",
    "    model.compile(loss='categorical_crossentropy', optimizer='adam', metrics=['accuracy'])\n",
    "    return model"
   ]
  },
  {
   "cell_type": "code",
   "execution_count": 93,
   "metadata": {},
   "outputs": [],
   "source": [
    "model = create_cnn_model()"
   ]
  },
  {
   "cell_type": "code",
   "execution_count": 94,
   "metadata": {},
   "outputs": [
    {
     "name": "stdout",
     "output_type": "stream",
     "text": [
      "Model: \"sequential_2\"\n",
      "_________________________________________________________________\n",
      " Layer (type)                Output Shape              Param #   \n",
      "=================================================================\n",
      " conv1d (Conv1D)             (None, 30, 64)            448       \n",
      "                                                                 \n",
      " batch_normalization (BatchN  (None, 30, 64)           256       \n",
      " ormalization)                                                   \n",
      "                                                                 \n",
      " max_pooling1d (MaxPooling1D  (None, 15, 64)           0         \n",
      " )                                                               \n",
      "                                                                 \n",
      " conv1d_1 (Conv1D)           (None, 15, 64)            24640     \n",
      "                                                                 \n",
      " batch_normalization_1 (Batc  (None, 15, 64)           256       \n",
      " hNormalization)                                                 \n",
      "                                                                 \n",
      " max_pooling1d_1 (MaxPooling  (None, 8, 64)            0         \n",
      " 1D)                                                             \n",
      "                                                                 \n",
      " conv1d_2 (Conv1D)           (None, 8, 64)             24640     \n",
      "                                                                 \n",
      " batch_normalization_2 (Batc  (None, 8, 64)            256       \n",
      " hNormalization)                                                 \n",
      "                                                                 \n",
      " max_pooling1d_2 (MaxPooling  (None, 4, 64)            0         \n",
      " 1D)                                                             \n",
      "                                                                 \n",
      " flatten (Flatten)           (None, 256)               0         \n",
      "                                                                 \n",
      " dense_6 (Dense)             (None, 64)                16448     \n",
      "                                                                 \n",
      " dense_7 (Dense)             (None, 64)                4160      \n",
      "                                                                 \n",
      " dense_8 (Dense)             (None, 3)                 195       \n",
      "                                                                 \n",
      "=================================================================\n",
      "Total params: 71,299\n",
      "Trainable params: 70,915\n",
      "Non-trainable params: 384\n",
      "_________________________________________________________________\n"
     ]
    }
   ],
   "source": [
    "model.summary()"
   ]
  },
  {
   "cell_type": "code",
   "execution_count": 95,
   "metadata": {},
   "outputs": [
    {
     "name": "stdout",
     "output_type": "stream",
     "text": [
      "Epoch 1/30\n",
      "1875/1875 [==============================] - 7s 3ms/step - loss: 0.0521 - accuracy: 0.9841 - val_loss: 0.3582 - val_accuracy: 0.8183\n",
      "Epoch 2/30\n",
      "1875/1875 [==============================] - 6s 3ms/step - loss: 0.0131 - accuracy: 0.9971 - val_loss: 0.9524 - val_accuracy: 0.8130\n",
      "Epoch 3/30\n",
      "1875/1875 [==============================] - 6s 3ms/step - loss: 0.0157 - accuracy: 0.9963 - val_loss: 0.1634 - val_accuracy: 0.8233\n",
      "Epoch 4/30\n",
      "1875/1875 [==============================] - 6s 3ms/step - loss: 0.0072 - accuracy: 0.9984 - val_loss: 0.5059 - val_accuracy: 0.7705\n",
      "Epoch 5/30\n",
      "1875/1875 [==============================] - 6s 3ms/step - loss: 0.0087 - accuracy: 0.9980 - val_loss: 0.5542 - val_accuracy: 0.7787\n",
      "Epoch 6/30\n",
      "1875/1875 [==============================] - 6s 3ms/step - loss: 0.0105 - accuracy: 0.9980 - val_loss: 0.0592 - val_accuracy: 0.9988\n",
      "Epoch 7/30\n",
      "1875/1875 [==============================] - 6s 3ms/step - loss: 0.0052 - accuracy: 0.9990 - val_loss: 0.0248 - val_accuracy: 0.9995\n",
      "Epoch 8/30\n",
      "1875/1875 [==============================] - 6s 3ms/step - loss: 0.0080 - accuracy: 0.9979 - val_loss: 0.0103 - val_accuracy: 0.9993\n",
      "Epoch 9/30\n",
      "1875/1875 [==============================] - 7s 3ms/step - loss: 0.0072 - accuracy: 0.9984 - val_loss: 0.0265 - val_accuracy: 0.9940\n",
      "Epoch 10/30\n",
      "1875/1875 [==============================] - 6s 3ms/step - loss: 0.0062 - accuracy: 0.9987 - val_loss: 0.0079 - val_accuracy: 0.9975\n",
      "Epoch 11/30\n",
      "1875/1875 [==============================] - 7s 4ms/step - loss: 0.0058 - accuracy: 0.9987 - val_loss: 0.0035 - val_accuracy: 0.9992\n",
      "Epoch 12/30\n",
      "1875/1875 [==============================] - 7s 3ms/step - loss: 0.0047 - accuracy: 0.9990 - val_loss: 0.0016 - val_accuracy: 0.9995\n",
      "Epoch 13/30\n",
      "1875/1875 [==============================] - 6s 3ms/step - loss: 0.0056 - accuracy: 0.9990 - val_loss: 0.0021 - val_accuracy: 0.9995\n",
      "Epoch 14/30\n",
      "1875/1875 [==============================] - 7s 4ms/step - loss: 0.0035 - accuracy: 0.9993 - val_loss: 0.0010 - val_accuracy: 0.9995\n",
      "Epoch 15/30\n",
      "1875/1875 [==============================] - 6s 3ms/step - loss: 0.0063 - accuracy: 0.9985 - val_loss: 0.0241 - val_accuracy: 0.9993\n",
      "Epoch 16/30\n",
      "1875/1875 [==============================] - 7s 4ms/step - loss: 0.0059 - accuracy: 0.9988 - val_loss: 0.2244 - val_accuracy: 0.8205\n",
      "Epoch 17/30\n",
      "1875/1875 [==============================] - 7s 4ms/step - loss: 0.0067 - accuracy: 0.9983 - val_loss: 0.0268 - val_accuracy: 0.9990\n",
      "Epoch 18/30\n",
      "1875/1875 [==============================] - 7s 4ms/step - loss: 0.0050 - accuracy: 0.9990 - val_loss: 0.0035 - val_accuracy: 0.9990\n",
      "Epoch 19/30\n",
      "1875/1875 [==============================] - 7s 4ms/step - loss: 0.0041 - accuracy: 0.9992 - val_loss: 0.0037 - val_accuracy: 0.9993\n",
      "Epoch 20/30\n",
      "1875/1875 [==============================] - 7s 4ms/step - loss: 0.0053 - accuracy: 0.9990 - val_loss: 0.0036 - val_accuracy: 0.9992\n",
      "Epoch 21/30\n",
      "1875/1875 [==============================] - 7s 4ms/step - loss: 0.0065 - accuracy: 0.9989 - val_loss: 0.5602 - val_accuracy: 0.8200\n",
      "Epoch 22/30\n",
      "1875/1875 [==============================] - 7s 4ms/step - loss: 0.0050 - accuracy: 0.9989 - val_loss: 0.0047 - val_accuracy: 0.9990\n",
      "Epoch 23/30\n",
      "1875/1875 [==============================] - 7s 4ms/step - loss: 0.0037 - accuracy: 0.9991 - val_loss: 0.0055 - val_accuracy: 0.9990\n",
      "Epoch 24/30\n",
      "1875/1875 [==============================] - 7s 4ms/step - loss: 0.0049 - accuracy: 0.9989 - val_loss: 0.0197 - val_accuracy: 0.9993\n",
      "Epoch 25/30\n",
      "1875/1875 [==============================] - 7s 4ms/step - loss: 0.0049 - accuracy: 0.9989 - val_loss: 0.0045 - val_accuracy: 0.9990\n",
      "Epoch 26/30\n",
      "1875/1875 [==============================] - 7s 4ms/step - loss: 0.0055 - accuracy: 0.9988 - val_loss: 0.0028 - val_accuracy: 0.9997\n",
      "Epoch 27/30\n",
      "1875/1875 [==============================] - 7s 4ms/step - loss: 0.0041 - accuracy: 0.9991 - val_loss: 0.0021 - val_accuracy: 0.9997\n",
      "Epoch 28/30\n",
      "1875/1875 [==============================] - 7s 4ms/step - loss: 0.0023 - accuracy: 0.9997 - val_loss: 0.0140 - val_accuracy: 0.9962\n",
      "Epoch 29/30\n",
      "1875/1875 [==============================] - 7s 4ms/step - loss: 0.0030 - accuracy: 0.9994 - val_loss: 0.0027 - val_accuracy: 0.9997\n",
      "Epoch 30/30\n",
      "1875/1875 [==============================] - 7s 4ms/step - loss: 0.0040 - accuracy: 0.9994 - val_loss: 0.0016 - val_accuracy: 0.9997\n"
     ]
    }
   ],
   "source": [
    "his = model.fit(X_train, y_train, epochs=30, batch_size=32, \n",
    "          validation_data=(X_test, y_test))"
   ]
  },
  {
   "cell_type": "code",
   "execution_count": 96,
   "metadata": {},
   "outputs": [
    {
     "name": "stdout",
     "output_type": "stream",
     "text": [
      "188/188 [==============================] - 0s 1ms/step - loss: 0.0016 - accuracy: 0.9997\n",
      "accuracy: 99.97%\n"
     ]
    }
   ],
   "source": [
    "scores = model.evaluate(X_test, y_test)\n",
    "print(\"%s: %.2f%%\" % (model.metrics_names[1], scores[1] * 100))"
   ]
  },
  {
   "cell_type": "code",
   "execution_count": 97,
   "metadata": {},
   "outputs": [
    {
     "data": {
      "text/plain": [
       "dict_keys(['loss', 'accuracy', 'val_loss', 'val_accuracy'])"
      ]
     },
     "execution_count": 97,
     "metadata": {},
     "output_type": "execute_result"
    }
   ],
   "source": [
    "history = his.history\n",
    "history.keys()"
   ]
  },
  {
   "cell_type": "code",
   "execution_count": 98,
   "metadata": {},
   "outputs": [],
   "source": [
    "epochs = range(1, len(history['loss']) + 1)\n",
    "acc = history['accuracy']\n",
    "loss = history['loss']\n",
    "val_acc = history['val_accuracy']\n",
    "val_loss = history['val_loss']"
   ]
  },
  {
   "cell_type": "code",
   "execution_count": 99,
   "metadata": {},
   "outputs": [
    {
     "data": {
      "text/plain": [
       "<matplotlib.legend.Legend at 0x1bfbc0ee6d0>"
      ]
     },
     "execution_count": 99,
     "metadata": {},
     "output_type": "execute_result"
    },
    {
     "data": {
      "image/png": "[encoded data removed]",
      "text/plain": [
       "<Figure size 720x360 with 1 Axes>"
      ]
     },
     "metadata": {
      "needs_background": "light"
     },
     "output_type": "display_data"
    }
   ],
   "source": [
    "plt.figure(figsize=(10, 5))\n",
    "plt.title('Training and Validation Accuracy (CNN)')\n",
    "plt.xlabel('Epochs')\n",
    "plt.ylabel('Accuracy')\n",
    "plt.plot(epochs, acc, label='accuracy')\n",
    "plt.plot(epochs, val_acc, label='val_acc')\n",
    "plt.legend()"
   ]
  },
  {
   "cell_type": "code",
   "execution_count": 100,
   "metadata": {},
   "outputs": [
    {
     "data": {
      "text/plain": [
       "<matplotlib.legend.Legend at 0x1bfbc0d6fa0>"
      ]
     },
     "execution_count": 100,
     "metadata": {},
     "output_type": "execute_result"
    },
    {
     "data": {
      "image/png": "[encoded data removed]",
      "text/plain": [
       "<Figure size 720x360 with 1 Axes>"
      ]
     },
     "metadata": {
      "needs_background": "light"
     },
     "output_type": "display_data"
    }
   ],
   "source": [
    "plt.figure(figsize=(10, 5))\n",
    "plt.title('Training and Validation Loss(CNN)')\n",
    "plt.xlabel('Epochs')\n",
    "plt.ylabel('Loss')\n",
    "plt.plot(epochs, loss, label='loss', color='g')\n",
    "plt.plot(epochs, val_loss, label='val_loss', color='r')\n",
    "plt.legend()"
   ]
  },
  {
   "cell_type": "code",
   "execution_count": 101,
   "metadata": {},
   "outputs": [],
   "source": [
    "def plot_roc_curve(fpr, tpr):\n",
    "    plt.plot(fpr, tpr, color='orange', label='ROC')\n",
    "    plt.plot([0, 1], [0, 1], color='darkblue', linestyle='--')\n",
    "    plt.xlabel('False Positive Rate')\n",
    "    plt.ylabel('True Positive Rate')\n",
    "    plt.title('Receiver Operating Characteristic (ROC) Curve')\n",
    "    plt.legend()\n",
    "    plt.show()"
   ]
  },
  {
   "cell_type": "code",
   "execution_count": 102,
   "metadata": {},
   "outputs": [],
   "source": [
    "def classif_results(): \n",
    "    conf_mat = confusion_matrix(y_true=y_test, y_pred=y_pred)\n",
    "    print('Confusion matrix:\\n', conf_mat)\n",
    "    labels = ['Class 0', 'Class 1', 'Class 2']\n",
    "    fig = plt.figure()\n",
    "    ax = fig.add_subplot(111)\n",
    "    cax = ax.matshow(conf_mat, cmap=plt.cm.Blues)\n",
    "    fig.colorbar(cax)\n",
    "    ax.set_xticklabels([''] + labels)\n",
    "    ax.set_yticklabels([''] + labels)\n",
    "    plt.xlabel('Predicted')\n",
    "    plt.ylabel('Expected')\n",
    "    plt.show()\n",
    "\n",
    "    print(\"Accuracy\", metrics.accuracy_score(y_test, y_pred))\n",
    "\n",
    "    from sklearn.metrics import classification_report\n",
    "    print(classification_report(y_test, y_pred))\n",
    "    \n",
    "\n",
    "   "
   ]
  },
  {
   "cell_type": "code",
   "execution_count": 103,
   "metadata": {
    "colab": {},
    "colab_type": "code",
    "id": "qD0Yxvv2qQGR"
   },
   "outputs": [],
   "source": [
    "def test_scale():\n",
    "    from sklearn.model_selection import train_test_split\n",
    "    X_train, X_test, y_train, y_test = train_test_split(X, y, test_size = 0.4, random_state = 0)\n",
    "    from sklearn.preprocessing import StandardScaler\n",
    "    sc_X = StandardScaler()\n",
    "    X_train = sc_X.fit_transform(X_train)\n",
    "    X_test = sc_X.transform(X_test)"
   ]
  },
  {
   "cell_type": "code",
   "execution_count": null,
   "metadata": {},
   "outputs": [],
   "source": []
  },
  {
   "cell_type": "code",
   "execution_count": null,
   "metadata": {},
   "outputs": [],
   "source": []
  },
  {
   "cell_type": "code",
   "execution_count": 104,
   "metadata": {},
   "outputs": [],
   "source": [
    "#df = df.drop(columns = [\"Timestamp\", \"proto\",\"PSH Flag Cnt\",\"Init Fwd Win Byts\",\"Flow Byts/s\",\"Flow Pkts/s\"], axis=1)"
   ]
  },
  {
   "cell_type": "code",
   "execution_count": 105,
   "metadata": {
    "colab": {
     "base_uri": "https://localhost:8080/",
     "height": 106
    },
    "colab_type": "code",
    "id": "4I_gzBXwBJTp",
    "outputId": "4e76c178-e385-49ef-ae29-8749d3280d0a"
   },
   "outputs": [],
   "source": [
    "X = df.iloc[:, df.columns != 'fdia_category']\n",
    "y = df.iloc[:, df.columns == 'fdia_category']"
   ]
  },
  {
   "cell_type": "code",
   "execution_count": 106,
   "metadata": {},
   "outputs": [
    {
     "data": {
      "text/html": [
       "<div>\n",
       "<style scoped>\n",
       "    .dataframe tbody tr th:only-of-type {\n",
       "        vertical-align: middle;\n",
       "    }\n",
       "\n",
       "    .dataframe tbody tr th {\n",
       "        vertical-align: top;\n",
       "    }\n",
       "\n",
       "    .dataframe thead th {\n",
       "        text-align: right;\n",
       "    }\n",
       "</style>\n",
       "<table border=\"1\" class=\"dataframe\">\n",
       "  <thead>\n",
       "    <tr style=\"text-align: right;\">\n",
       "      <th></th>\n",
       "      <th>attack</th>\n",
       "    </tr>\n",
       "  </thead>\n",
       "  <tbody>\n",
       "    <tr>\n",
       "      <th>0</th>\n",
       "      <td>0</td>\n",
       "    </tr>\n",
       "    <tr>\n",
       "      <th>1</th>\n",
       "      <td>0</td>\n",
       "    </tr>\n",
       "    <tr>\n",
       "      <th>2</th>\n",
       "      <td>0</td>\n",
       "    </tr>\n",
       "    <tr>\n",
       "      <th>3</th>\n",
       "      <td>0</td>\n",
       "    </tr>\n",
       "    <tr>\n",
       "      <th>4</th>\n",
       "      <td>0</td>\n",
       "    </tr>\n",
       "    <tr>\n",
       "      <th>...</th>\n",
       "      <td>...</td>\n",
       "    </tr>\n",
       "    <tr>\n",
       "      <th>1048570</th>\n",
       "      <td>0</td>\n",
       "    </tr>\n",
       "    <tr>\n",
       "      <th>1048571</th>\n",
       "      <td>0</td>\n",
       "    </tr>\n",
       "    <tr>\n",
       "      <th>1048572</th>\n",
       "      <td>0</td>\n",
       "    </tr>\n",
       "    <tr>\n",
       "      <th>1048573</th>\n",
       "      <td>0</td>\n",
       "    </tr>\n",
       "    <tr>\n",
       "      <th>1048574</th>\n",
       "      <td>0</td>\n",
       "    </tr>\n",
       "  </tbody>\n",
       "</table>\n",
       "<p>1044751 rows × 1 columns</p>\n",
       "</div>"
      ],
      "text/plain": [
       "         attack\n",
       "0             0\n",
       "1             0\n",
       "2             0\n",
       "3             0\n",
       "4             0\n",
       "...         ...\n",
       "1048570       0\n",
       "1048571       0\n",
       "1048572       0\n",
       "1048573       0\n",
       "1048574       0\n",
       "\n",
       "[1044751 rows x 1 columns]"
      ]
     },
     "execution_count": 106,
     "metadata": {},
     "output_type": "execute_result"
    }
   ],
   "source": [
    "y"
   ]
  },
  {
   "cell_type": "code",
   "execution_count": 107,
   "metadata": {},
   "outputs": [
    {
     "data": {
      "text/plain": [
       "(0    663808\n",
       " 1    193354\n",
       " 2    187589\n",
       " Name: attack, dtype: int64,\n",
       "          Fwd Seg Size Min  Bwd Pkts/s   Flow Pkts/s    Fwd Pkts/s  \\\n",
       " 0                       0    0.000000      0.026633      0.026633   \n",
       " 1                       0    0.000000      0.026633      0.026633   \n",
       " 2                       0    0.000000      0.026634      0.026634   \n",
       " 3                      32    1.549435      3.873587      2.324152   \n",
       " 4                      32    1.249423      2.839597      1.590174   \n",
       " ...                   ...         ...           ...           ...   \n",
       " 1048570                20    0.492272      0.984544      0.492272   \n",
       " 1048571                20    0.000000  17094.017090  17094.017090   \n",
       " 1048572                20    0.196258      0.785032      0.588774   \n",
       " 1048573                20    0.191003      0.764013      0.573010   \n",
       " 1048574                20    0.688793      1.721984      1.033190   \n",
       " \n",
       "          Init Fwd Win Byts  URG Flag Cnt  Fwd Act Data Pkts  PSH Flag Cnt  \\\n",
       " 0                       -1             0                  0             0   \n",
       " 1                       -1             0                  0             0   \n",
       " 2                       -1             0                  0             0   \n",
       " 3                    65535             0                  6             1   \n",
       " 4                     5808             0                  6             1   \n",
       " ...                    ...           ...                ...           ...   \n",
       " 1048570               8192             0                  2             1   \n",
       " 1048571              64240             0                  0             0   \n",
       " 1048572               8192             0                  0             1   \n",
       " 1048573               8192             0                  0             1   \n",
       " 1048574               8192             0                  3             1   \n",
       " \n",
       "          Pkt Size Avg  proto  ...  Bwd Pkt Len Mean  Bwd Seg Size Avg  \\\n",
       " 0                0.00      0  ...          0.000000          0.000000   \n",
       " 1                0.00      0  ...          0.000000          0.000000   \n",
       " 2                0.00      0  ...          0.000000          0.000000   \n",
       " 3              140.48      6  ...        227.300000        227.300000   \n",
       " 4              134.08      6  ...        200.818182        200.818182   \n",
       " ...               ...    ...  ...               ...               ...   \n",
       " 1048570        301.20      6  ...        384.600000        384.600000   \n",
       " 1048571          0.00      6  ...          0.000000          0.000000   \n",
       " 1048572          0.00      6  ...          0.000000          0.000000   \n",
       " 1048573          0.00      6  ...          0.000000          0.000000   \n",
       " 1048574         47.20      6  ...         36.250000         36.250000   \n",
       " \n",
       "          Down/Up Ratio  Pkt Len Std  Bwd Pkt Len Std  Fwd Pkt Len Std  \\\n",
       " 0                    0     0.000000         0.000000         0.000000   \n",
       " 1                    0     0.000000         0.000000         0.000000   \n",
       " 2                    0     0.000000         0.000000         0.000000   \n",
       " 3                    0   277.834760       371.677892       196.741237   \n",
       " 4                    0   279.763032       362.249864       203.745545   \n",
       " ...                ...          ...              ...              ...   \n",
       " 1048570              1   435.695953       588.831725       299.745225   \n",
       " 1048571              0     0.000000         0.000000         0.000000   \n",
       " 1048572              0     0.000000         0.000000         0.000000   \n",
       " 1048573              0     0.000000         0.000000         0.000000   \n",
       " 1048574              0    80.224005        72.500000        95.671835   \n",
       " \n",
       "          Init Bwd Win Byts  Dst Port  Bwd IAT Tot   Bwd IAT Std  \n",
       " 0                       -1         0            0  0.000000e+00  \n",
       " 1                       -1         0            0  0.000000e+00  \n",
       " 2                       -1         0            0  0.000000e+00  \n",
       " 3                      233        22      5637902  4.550822e+05  \n",
       " 4                      233        22      7715481  7.555431e+05  \n",
       " ...                    ...       ...          ...           ...  \n",
       " 1048570              31111        80     10140598  4.976408e+06  \n",
       " 1048571                 -1        80            0  0.000000e+00  \n",
       " 1048572              29200        80            0  0.000000e+00  \n",
       " 1048573              42780        80            0  0.000000e+00  \n",
       " 1048574                110       443       206654  6.225467e+04  \n",
       " \n",
       " [1044751 rows x 30 columns],\n",
       " attack\n",
       " 0         663808\n",
       " 1         193354\n",
       " 2         187589\n",
       " dtype: int64)"
      ]
     },
     "execution_count": 107,
     "metadata": {},
     "output_type": "execute_result"
    }
   ],
   "source": [
    "df['fdia_category'].value_counts(), X, y.value_counts()"
   ]
  },
  {
   "cell_type": "code",
   "execution_count": 108,
   "metadata": {},
   "outputs": [],
   "source": [
    "X_train, X_test, y_train, y_test = train_test_split(X, y, test_size = 0.4, random_state = 0)"
   ]
  },
  {
   "cell_type": "code",
   "execution_count": 109,
   "metadata": {},
   "outputs": [],
   "source": [
    "sc_X = StandardScaler()"
   ]
  },
  {
   "cell_type": "code",
   "execution_count": 110,
   "metadata": {},
   "outputs": [],
   "source": [
    "X_train = sc_X.fit_transform(X_train)"
   ]
  },
  {
   "cell_type": "code",
   "execution_count": 111,
   "metadata": {},
   "outputs": [],
   "source": [
    "X_test = sc_X.transform(X_test)"
   ]
  },
  {
   "cell_type": "code",
   "execution_count": 112,
   "metadata": {
    "colab": {},
    "colab_type": "code",
    "id": "FCCKBLFBeK98"
   },
   "outputs": [],
   "source": [
    "lr_classifier = LogisticRegression()"
   ]
  },
  {
   "cell_type": "code",
   "execution_count": 113,
   "metadata": {},
   "outputs": [
    {
     "name": "stderr",
     "output_type": "stream",
     "text": [
      "s:\\anacondaprogramdata\\anaconda3\\lib\\site-packages\\sklearn\\utils\\validation.py:993: DataConversionWarning: A column-vector y was passed when a 1d array was expected. Please change the shape of y to (n_samples, ), for example using ravel().\n",
      "  y = column_or_1d(y, warn=True)\n",
      "s:\\anacondaprogramdata\\anaconda3\\lib\\site-packages\\sklearn\\linear_model\\_logistic.py:814: ConvergenceWarning: lbfgs failed to converge (status=1):\n",
      "STOP: TOTAL NO. of ITERATIONS REACHED LIMIT.\n",
      "\n",
      "Increase the number of iterations (max_iter) or scale the data as shown in:\n",
      "    https://scikit-learn.org/stable/modules/preprocessing.html\n",
      "Please also refer to the documentation for alternative solver options:\n",
      "    https://scikit-learn.org/stable/modules/linear_model.html#logistic-regression\n",
      "  n_iter_i = _check_optimize_result(\n"
     ]
    },
    {
     "data": {
      "text/plain": [
       "LogisticRegression()"
      ]
     },
     "execution_count": 113,
     "metadata": {},
     "output_type": "execute_result"
    }
   ],
   "source": [
    "lr_classifier.fit(X_train,y_train)"
   ]
  },
  {
   "cell_type": "code",
   "execution_count": 114,
   "metadata": {
    "colab": {},
    "colab_type": "code",
    "id": "ZCxyQRcQNnbB"
   },
   "outputs": [],
   "source": [
    "y_pred = lr_classifier.predict(X_test)"
   ]
  },
  {
   "cell_type": "code",
   "execution_count": 115,
   "metadata": {
    "colab": {
     "base_uri": "https://localhost:8080/",
     "height": 818
    },
    "colab_type": "code",
    "id": "zq3cY5zdNAij",
    "outputId": "53dae67f-ff97-4c87-ebda-d13ca625c224"
   },
   "outputs": [
    {
     "name": "stderr",
     "output_type": "stream",
     "text": [
      "C:\\Users\\kanna\\AppData\\Local\\Temp\\ipykernel_11288\\1457143942.py:9: UserWarning: FixedFormatter should only be used together with FixedLocator\n",
      "  ax.set_xticklabels([''] + labels)\n"
     ]
    },
    {
     "name": "stdout",
     "output_type": "stream",
     "text": [
      "Confusion matrix:\n",
      " [[265609     92      8]\n",
      " [     0  77279      0]\n",
      " [     1     11  74901]]\n"
     ]
    },
    {
     "name": "stderr",
     "output_type": "stream",
     "text": [
      "C:\\Users\\kanna\\AppData\\Local\\Temp\\ipykernel_11288\\1457143942.py:10: UserWarning: FixedFormatter should only be used together with FixedLocator\n",
      "  ax.set_yticklabels([''] + labels)\n"
     ]
    },
    {
     "data": {
      "image/png": "[encoded data removed]",
      "text/plain": [
       "<Figure size 432x288 with 2 Axes>"
      ]
     },
     "metadata": {
      "needs_background": "light"
     },
     "output_type": "display_data"
    },
    {
     "name": "stdout",
     "output_type": "stream",
     "text": [
      "Accuracy 0.9997319939411488\n",
      "              precision    recall  f1-score   support\n",
      "\n",
      "           0       1.00      1.00      1.00    265709\n",
      "           1       1.00      1.00      1.00     77279\n",
      "           2       1.00      1.00      1.00     74913\n",
      "\n",
      "    accuracy                           1.00    417901\n",
      "   macro avg       1.00      1.00      1.00    417901\n",
      "weighted avg       1.00      1.00      1.00    417901\n",
      "\n"
     ]
    }
   ],
   "source": [
    "classif_results()"
   ]
  },
  {
   "cell_type": "code",
   "execution_count": 116,
   "metadata": {},
   "outputs": [],
   "source": [
    "test_scale()"
   ]
  },
  {
   "cell_type": "code",
   "execution_count": 117,
   "metadata": {},
   "outputs": [],
   "source": [
    "dt_classifier = DecisionTreeClassifier()"
   ]
  },
  {
   "cell_type": "code",
   "execution_count": 118,
   "metadata": {},
   "outputs": [
    {
     "data": {
      "text/plain": [
       "DecisionTreeClassifier()"
      ]
     },
     "execution_count": 118,
     "metadata": {},
     "output_type": "execute_result"
    }
   ],
   "source": [
    "dt_classifier.fit(X_train,y_train)"
   ]
  },
  {
   "cell_type": "code",
   "execution_count": 119,
   "metadata": {},
   "outputs": [],
   "source": [
    "y_pred = dt_classifier.predict(X_test)"
   ]
  },
  {
   "cell_type": "code",
   "execution_count": 120,
   "metadata": {
    "colab": {
     "base_uri": "https://localhost:8080/",
     "height": 818
    },
    "colab_type": "code",
    "id": "mc1cZCHAY1-0",
    "outputId": "a9364444-7822-457e-f845-23ed721c02d0"
   },
   "outputs": [
    {
     "name": "stdout",
     "output_type": "stream",
     "text": [
      "Confusion matrix:\n",
      " [[265709      0      0]\n",
      " [     0  77279      0]\n",
      " [     0     11  74902]]\n"
     ]
    },
    {
     "name": "stderr",
     "output_type": "stream",
     "text": [
      "C:\\Users\\kanna\\AppData\\Local\\Temp\\ipykernel_11288\\1457143942.py:9: UserWarning: FixedFormatter should only be used together with FixedLocator\n",
      "  ax.set_xticklabels([''] + labels)\n",
      "C:\\Users\\kanna\\AppData\\Local\\Temp\\ipykernel_11288\\1457143942.py:10: UserWarning: FixedFormatter should only be used together with FixedLocator\n",
      "  ax.set_yticklabels([''] + labels)\n"
     ]
    },
    {
     "data": {
      "image/png": "[encoded data removed]",
      "text/plain": [
       "<Figure size 432x288 with 2 Axes>"
      ]
     },
     "metadata": {
      "needs_background": "light"
     },
     "output_type": "display_data"
    },
    {
     "name": "stdout",
     "output_type": "stream",
     "text": [
      "Accuracy 0.9999736779763628\n",
      "              precision    recall  f1-score   support\n",
      "\n",
      "           0       1.00      1.00      1.00    265709\n",
      "           1       1.00      1.00      1.00     77279\n",
      "           2       1.00      1.00      1.00     74913\n",
      "\n",
      "    accuracy                           1.00    417901\n",
      "   macro avg       1.00      1.00      1.00    417901\n",
      "weighted avg       1.00      1.00      1.00    417901\n",
      "\n"
     ]
    }
   ],
   "source": [
    "classif_results()"
   ]
  },
  {
   "cell_type": "code",
   "execution_count": 121,
   "metadata": {},
   "outputs": [],
   "source": [
    "test_scale()"
   ]
  },
  {
   "cell_type": "code",
   "execution_count": 122,
   "metadata": {},
   "outputs": [],
   "source": [
    "\n",
    "from sklearn import tree"
   ]
  },
  {
   "cell_type": "code",
   "execution_count": 123,
   "metadata": {},
   "outputs": [],
   "source": [
    "classifier = RandomForestClassifier()"
   ]
  },
  {
   "cell_type": "code",
   "execution_count": 124,
   "metadata": {},
   "outputs": [
    {
     "name": "stderr",
     "output_type": "stream",
     "text": [
      "C:\\Users\\kanna\\AppData\\Local\\Temp\\ipykernel_11288\\3959894982.py:1: DataConversionWarning: A column-vector y was passed when a 1d array was expected. Please change the shape of y to (n_samples,), for example using ravel().\n",
      "  classifier.fit(X_train, y_train)\n"
     ]
    },
    {
     "data": {
      "text/plain": [
       "RandomForestClassifier()"
      ]
     },
     "execution_count": 124,
     "metadata": {},
     "output_type": "execute_result"
    }
   ],
   "source": [
    "classifier.fit(X_train, y_train)"
   ]
  },
  {
   "cell_type": "code",
   "execution_count": 125,
   "metadata": {},
   "outputs": [],
   "source": [
    "y_pred = classifier.predict(X_test)"
   ]
  },
  {
   "cell_type": "code",
   "execution_count": 126,
   "metadata": {
    "colab": {
     "base_uri": "https://localhost:8080/",
     "height": 818
    },
    "colab_type": "code",
    "id": "SxnUXQK6gulj",
    "outputId": "f82ec62d-48a3-420f-b0d7-f815b66604ae"
   },
   "outputs": [
    {
     "name": "stdout",
     "output_type": "stream",
     "text": [
      "Confusion matrix:\n",
      " [[265709      0      0]\n",
      " [     0  77279      0]\n",
      " [     0     11  74902]]\n"
     ]
    },
    {
     "name": "stderr",
     "output_type": "stream",
     "text": [
      "C:\\Users\\kanna\\AppData\\Local\\Temp\\ipykernel_11288\\1457143942.py:9: UserWarning: FixedFormatter should only be used together with FixedLocator\n",
      "  ax.set_xticklabels([''] + labels)\n",
      "C:\\Users\\kanna\\AppData\\Local\\Temp\\ipykernel_11288\\1457143942.py:10: UserWarning: FixedFormatter should only be used together with FixedLocator\n",
      "  ax.set_yticklabels([''] + labels)\n"
     ]
    },
    {
     "data": {
      "image/png": "[encoded data removed]",
      "text/plain": [
       "<Figure size 432x288 with 2 Axes>"
      ]
     },
     "metadata": {
      "needs_background": "light"
     },
     "output_type": "display_data"
    },
    {
     "name": "stdout",
     "output_type": "stream",
     "text": [
      "Accuracy 0.9999736779763628\n",
      "              precision    recall  f1-score   support\n",
      "\n",
      "           0       1.00      1.00      1.00    265709\n",
      "           1       1.00      1.00      1.00     77279\n",
      "           2       1.00      1.00      1.00     74913\n",
      "\n",
      "    accuracy                           1.00    417901\n",
      "   macro avg       1.00      1.00      1.00    417901\n",
      "weighted avg       1.00      1.00      1.00    417901\n",
      "\n"
     ]
    }
   ],
   "source": [
    "classif_results()"
   ]
  },
  {
   "cell_type": "code",
   "execution_count": 127,
   "metadata": {
    "colab": {},
    "colab_type": "code",
    "id": "Q7-wWafQguo8"
   },
   "outputs": [],
   "source": [
    "test_scale()"
   ]
  },
  {
   "cell_type": "code",
   "execution_count": 128,
   "metadata": {},
   "outputs": [],
   "source": [
    "classifier = KNeighborsClassifier()"
   ]
  },
  {
   "cell_type": "code",
   "execution_count": 129,
   "metadata": {},
   "outputs": [
    {
     "name": "stderr",
     "output_type": "stream",
     "text": [
      "s:\\anacondaprogramdata\\anaconda3\\lib\\site-packages\\sklearn\\neighbors\\_classification.py:198: DataConversionWarning: A column-vector y was passed when a 1d array was expected. Please change the shape of y to (n_samples,), for example using ravel().\n",
      "  return self._fit(X, y)\n"
     ]
    },
    {
     "data": {
      "text/plain": [
       "KNeighborsClassifier()"
      ]
     },
     "execution_count": 129,
     "metadata": {},
     "output_type": "execute_result"
    }
   ],
   "source": [
    "classifier.fit(X_train,y_train)"
   ]
  },
  {
   "cell_type": "code",
   "execution_count": null,
   "metadata": {},
   "outputs": [],
   "source": [
    "y_pred = classifier.predict(X_test)"
   ]
  },
  {
   "cell_type": "code",
   "execution_count": null,
   "metadata": {
    "colab": {},
    "colab_type": "code",
    "id": "uJNUH0aVSd4P"
   },
   "outputs": [],
   "source": [
    "cm = confusion_matrix(y_test,y_pred)"
   ]
  },
  {
   "cell_type": "code",
   "execution_count": null,
   "metadata": {
    "colab": {
     "base_uri": "https://localhost:8080/",
     "height": 818
    },
    "colab_type": "code",
    "id": "UPjbK4lIV__f",
    "outputId": "6400c112-4a14-418f-8292-2bddf97196f1"
   },
   "outputs": [],
   "source": [
    "classif_results()"
   ]
  },
  {
   "cell_type": "code",
   "execution_count": null,
   "metadata": {
    "colab": {},
    "colab_type": "code",
    "id": "RtcmLQ1rVewF"
   },
   "outputs": [],
   "source": [
    "test_scale()"
   ]
  },
  {
   "cell_type": "code",
   "execution_count": null,
   "metadata": {},
   "outputs": [],
   "source": [
    "classifier = SVC()"
   ]
  },
  {
   "cell_type": "code",
   "execution_count": null,
   "metadata": {},
   "outputs": [],
   "source": [
    "classifier.fit(X_train, y_train)"
   ]
  },
  {
   "cell_type": "code",
   "execution_count": null,
   "metadata": {},
   "outputs": [],
   "source": [
    "y_pred = classifier.predict(X_test)"
   ]
  },
  {
   "cell_type": "code",
   "execution_count": null,
   "metadata": {
    "colab": {},
    "colab_type": "code",
    "id": "dZB9pl0bVwwU"
   },
   "outputs": [],
   "source": [
    "cm = confusion_matrix(y_test,y_pred)"
   ]
  },
  {
   "cell_type": "code",
   "execution_count": null,
   "metadata": {
    "colab": {
     "base_uri": "https://localhost:8080/",
     "height": 818
    },
    "colab_type": "code",
    "id": "rBko4G0GXaw7",
    "outputId": "9b5858c0-09d3-41a8-91f8-3faba9e64d11"
   },
   "outputs": [],
   "source": [
    "classif_results()"
   ]
  },
  {
   "cell_type": "code",
   "execution_count": null,
   "metadata": {
    "colab": {},
    "colab_type": "code",
    "id": "zLo3JLgWOPQF"
   },
   "outputs": [],
   "source": [
    "test_scale()"
   ]
  },
  {
   "cell_type": "code",
   "execution_count": null,
   "metadata": {},
   "outputs": [],
   "source": [
    "classifier = GaussianNB()"
   ]
  },
  {
   "cell_type": "code",
   "execution_count": null,
   "metadata": {},
   "outputs": [],
   "source": [
    "classifier.fit(X_train, y_train)"
   ]
  },
  {
   "cell_type": "code",
   "execution_count": null,
   "metadata": {},
   "outputs": [],
   "source": [
    "y_pred = classifier.predict(X_test)"
   ]
  },
  {
   "cell_type": "code",
   "execution_count": null,
   "metadata": {
    "colab": {},
    "colab_type": "code",
    "id": "zBwG-YYncej7"
   },
   "outputs": [],
   "source": [
    "cm = confusion_matrix(y_test,y_pred)"
   ]
  },
  {
   "cell_type": "code",
   "execution_count": null,
   "metadata": {
    "colab": {
     "base_uri": "https://localhost:8080/",
     "height": 818
    },
    "colab_type": "code",
    "id": "hLkdNWmZksZC",
    "outputId": "d0dc050f-4f77-44eb-b942-71f05218e867"
   },
   "outputs": [],
   "source": [
    "classif_results()"
   ]
  },
  {
   "cell_type": "code",
   "execution_count": null,
   "metadata": {},
   "outputs": [],
   "source": []
  }
 ],
 "metadata": {
  "colab": {
   "collapsed_sections": [],
   "name": "MachineLearningCLassificationWIthBestFeatures.ipynb",
   "provenance": [],
   "toc_visible": true
  },
  "kernelspec": {
   "display_name": "Python 3 (ipykernel)",
   "language": "python",
   "name": "python3"
  },
  "language_info": {
   "codemirror_mode": {
    "name": "ipython",
    "version": 3
   },
   "file_extension": ".py",
   "mimetype": "text/x-python",
   "name": "python",
   "nbconvert_exporter": "python",
   "pygments_lexer": "ipython3",
   "version": "3.8.5"
  }
 },
 "nbformat": 4,
 "nbformat_minor": 1
}
